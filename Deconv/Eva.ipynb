{
 "cells": [
  {
   "cell_type": "code",
   "execution_count": 1,
   "metadata": {},
   "outputs": [],
   "source": [
    "from Function.helper import *\n",
    "import easydict"
   ]
  },
  {
   "cell_type": "code",
   "execution_count": 2,
   "metadata": {},
   "outputs": [],
   "source": [
    "args=easydict.EasyDict({\n",
    "    'check_path':'Save/deconv2_vgg_check.pkl',\n",
    "})"
   ]
  },
  {
   "cell_type": "code",
   "execution_count": 3,
   "metadata": {},
   "outputs": [
    {
     "name": "stdout",
     "output_type": "stream",
     "text": [
      "train acc:0.8254921588254922\n",
      "val acc:0.6032102174663445\n"
     ]
    }
   ],
   "source": [
    "check_dict=load_check_point(args)\n",
    "epoch=check_dict['epoch']\n",
    "train_acc_arr=check_dict['train_acc_arr']\n",
    "val_acc_arr=check_dict['val_acc_arr']\n",
    "\n",
    "print('train acc:{}'.format(train_acc_arr[-1]))\n",
    "print('val acc:{}'.format(val_acc_arr[-1]))"
   ]
  },
  {
   "cell_type": "code",
   "execution_count": null,
   "metadata": {},
   "outputs": [],
   "source": []
  }
 ],
 "metadata": {
  "kernelspec": {
   "display_name": "Python 3",
   "language": "python",
   "name": "python3"
  },
  "language_info": {
   "codemirror_mode": {
    "name": "ipython",
    "version": 3
   },
   "file_extension": ".py",
   "mimetype": "text/x-python",
   "name": "python",
   "nbconvert_exporter": "python",
   "pygments_lexer": "ipython3",
   "version": "3.7.1"
  }
 },
 "nbformat": 4,
 "nbformat_minor": 2
}
