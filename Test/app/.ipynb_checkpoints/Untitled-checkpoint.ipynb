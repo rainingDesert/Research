{
 "cells": [
  {
   "cell_type": "code",
   "execution_count": 2,
   "metadata": {},
   "outputs": [],
   "source": [
    "import time\n",
    "\n",
    "import matplotlib.pyplot as plt"
   ]
  },
  {
   "cell_type": "markdown",
   "metadata": {},
   "source": [
    "# Binary train"
   ]
  },
  {
   "cell_type": "code",
   "execution_count": null,
   "metadata": {},
   "outputs": [],
   "source": [
    "while True:\n",
    "    with open('../save/train/train_log.txt','r') as f:\n",
    "        lines=f.readlines()\n",
    "        \n",
    "        train=[]\n",
    "        val=[]\n",
    "        for line in lines:\n",
    "            x1,x2=line.split('-')\n",
    "            train.append(x1)\n",
    "            val.append(x2)\n",
    "        \n",
    "        x=range(len(train))\n",
    "        \n",
    "        plt.figure(figsize=(8,4))\n",
    "        plt.plot(x,train,'o-',color='green',label='train')\n",
    "        plt.plot(x,val,'o-',color='green',label='train')"
   ]
  }
 ],
 "metadata": {
  "kernelspec": {
   "display_name": "Python 3",
   "language": "python",
   "name": "python3"
  },
  "language_info": {
   "codemirror_mode": {
    "name": "ipython",
    "version": 3
   },
   "file_extension": ".py",
   "mimetype": "text/x-python",
   "name": "python",
   "nbconvert_exporter": "python",
   "pygments_lexer": "ipython3",
   "version": "3.7.1"
  }
 },
 "nbformat": 4,
 "nbformat_minor": 2
}
