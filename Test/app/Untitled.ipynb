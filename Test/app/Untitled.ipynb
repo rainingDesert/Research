{
 "cells": [
  {
   "cell_type": "code",
   "execution_count": 2,
   "metadata": {},
   "outputs": [],
   "source": [
    "import time\n",
    "\n",
    "import matplotlib.pyplot as plt\n",
    "import numpy as np\n",
    "import os"
   ]
  },
  {
   "cell_type": "markdown",
   "metadata": {},
   "source": [
    "# Binary train"
   ]
  },
  {
   "cell_type": "code",
   "execution_count": 3,
   "metadata": {},
   "outputs": [],
   "source": [
    "with open('../save/train/train_log.txt','r') as f:\n",
    "    lines=f.readlines()\n",
    "\n",
    "    train=[]\n",
    "    val=[]\n",
    "    for line in lines:\n",
    "        x1,x2=line.split('-')\n",
    "        train.append(int(float(x1)*1000)/1000)\n",
    "        val.append(int(float(x2)*1000)/1000)\n",
    "\n",
    "    x=range(len(train))\n",
    "\n",
    "    plt.figure(figsize=(8,4))\n",
    "    plt.plot(x,train,'o-',color='green',label='train')\n",
    "    plt.plot(x,val,'o-',color='red',label='val')\n",
    "\n",
    "\n",
    "    plt.legend()\n",
    "    plt.savefig('../save/train/train.jpg')\n",
    "    plt.close()"
   ]
  },
  {
   "cell_type": "code",
   "execution_count": 18,
   "metadata": {},
   "outputs": [],
   "source": [
    "path='../save/train/imgs/'\n",
    "imgs=os.listdir(path)"
   ]
  },
  {
   "cell_type": "code",
   "execution_count": null,
   "metadata": {},
   "outputs": [],
   "source": []
  }
 ],
 "metadata": {
  "kernelspec": {
   "display_name": "Python 3",
   "language": "python",
   "name": "python3"
  },
  "language_info": {
   "codemirror_mode": {
    "name": "ipython",
    "version": 3
   },
   "file_extension": ".py",
   "mimetype": "text/x-python",
   "name": "python",
   "nbconvert_exporter": "python",
   "pygments_lexer": "ipython3",
   "version": "3.7.1"
  }
 },
 "nbformat": 4,
 "nbformat_minor": 2
}
