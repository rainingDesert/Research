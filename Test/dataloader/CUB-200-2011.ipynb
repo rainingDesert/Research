{
 "cells": [
  {
   "cell_type": "code",
   "execution_count": 1,
   "metadata": {},
   "outputs": [],
   "source": [
    "import numpy as np\n",
    "\n",
    "import pandas as pd\n",
    "import os\n",
    "import ast"
   ]
  },
  {
   "cell_type": "markdown",
   "metadata": {},
   "source": [
    "# 加载数据"
   ]
  },
  {
   "cell_type": "code",
   "execution_count": 2,
   "metadata": {},
   "outputs": [],
   "source": [
    "data_root_path='d:/Data/CUB/CUB_200_2011/'"
   ]
  },
  {
   "cell_type": "code",
   "execution_count": 3,
   "metadata": {},
   "outputs": [
    {
     "data": {
      "text/plain": [
       "['attributes',\n",
       " 'bounding_boxes.txt',\n",
       " 'classes.txt',\n",
       " 'images',\n",
       " 'images.txt',\n",
       " 'image_class_labels.txt',\n",
       " 'parts',\n",
       " 'README',\n",
       " 'train_test_split.txt']"
      ]
     },
     "execution_count": 3,
     "metadata": {},
     "output_type": "execute_result"
    }
   ],
   "source": [
    "os.listdir(data_root_path)"
   ]
  },
  {
   "cell_type": "code",
   "execution_count": 4,
   "metadata": {},
   "outputs": [],
   "source": [
    "images_id_file=data_root_path+'images.txt'\n",
    "image_class_labels=data_root_path+'image_class_labels.txt'\n",
    "train_test_split=data_root_path+'train_test_split.txt'\n",
    "bbox_file=data_root_path+'bounding_boxes.txt'"
   ]
  },
  {
   "cell_type": "markdown",
   "metadata": {},
   "source": [
    "# 初始化csv"
   ]
  },
  {
   "cell_type": "code",
   "execution_count": 5,
   "metadata": {},
   "outputs": [],
   "source": [
    "with open(images_id_file,'r') as f:\n",
    "    lines=f.readlines()\n",
    "\n",
    "image_id=[]\n",
    "img_path=[]\n",
    "for line in lines:\n",
    "    id,path=line.strip().split(' ')\n",
    "    image_id.append(id)\n",
    "    img_path.append(path)"
   ]
  },
  {
   "cell_type": "code",
   "execution_count": 6,
   "metadata": {},
   "outputs": [],
   "source": [
    "data_csv=pd.DataFrame(data={'id':image_id,'path':img_path})"
   ]
  },
  {
   "cell_type": "code",
   "execution_count": 7,
   "metadata": {},
   "outputs": [],
   "source": [
    "data_csv['path']='images/'+data_csv['path']"
   ]
  },
  {
   "cell_type": "code",
   "execution_count": 8,
   "metadata": {},
   "outputs": [
    {
     "data": {
      "text/html": [
       "<div>\n",
       "<style scoped>\n",
       "    .dataframe tbody tr th:only-of-type {\n",
       "        vertical-align: middle;\n",
       "    }\n",
       "\n",
       "    .dataframe tbody tr th {\n",
       "        vertical-align: top;\n",
       "    }\n",
       "\n",
       "    .dataframe thead th {\n",
       "        text-align: right;\n",
       "    }\n",
       "</style>\n",
       "<table border=\"1\" class=\"dataframe\">\n",
       "  <thead>\n",
       "    <tr style=\"text-align: right;\">\n",
       "      <th></th>\n",
       "      <th>id</th>\n",
       "      <th>path</th>\n",
       "    </tr>\n",
       "  </thead>\n",
       "  <tbody>\n",
       "    <tr>\n",
       "      <th>0</th>\n",
       "      <td>1</td>\n",
       "      <td>images/001.Black_footed_Albatross/Black_Footed...</td>\n",
       "    </tr>\n",
       "    <tr>\n",
       "      <th>1</th>\n",
       "      <td>2</td>\n",
       "      <td>images/001.Black_footed_Albatross/Black_Footed...</td>\n",
       "    </tr>\n",
       "    <tr>\n",
       "      <th>2</th>\n",
       "      <td>3</td>\n",
       "      <td>images/001.Black_footed_Albatross/Black_Footed...</td>\n",
       "    </tr>\n",
       "    <tr>\n",
       "      <th>3</th>\n",
       "      <td>4</td>\n",
       "      <td>images/001.Black_footed_Albatross/Black_Footed...</td>\n",
       "    </tr>\n",
       "    <tr>\n",
       "      <th>4</th>\n",
       "      <td>5</td>\n",
       "      <td>images/001.Black_footed_Albatross/Black_Footed...</td>\n",
       "    </tr>\n",
       "  </tbody>\n",
       "</table>\n",
       "</div>"
      ],
      "text/plain": [
       "  id                                               path\n",
       "0  1  images/001.Black_footed_Albatross/Black_Footed...\n",
       "1  2  images/001.Black_footed_Albatross/Black_Footed...\n",
       "2  3  images/001.Black_footed_Albatross/Black_Footed...\n",
       "3  4  images/001.Black_footed_Albatross/Black_Footed...\n",
       "4  5  images/001.Black_footed_Albatross/Black_Footed..."
      ]
     },
     "execution_count": 8,
     "metadata": {},
     "output_type": "execute_result"
    }
   ],
   "source": [
    "data_csv.head()"
   ]
  },
  {
   "cell_type": "markdown",
   "metadata": {},
   "source": [
    "# 添加label"
   ]
  },
  {
   "cell_type": "code",
   "execution_count": 9,
   "metadata": {},
   "outputs": [],
   "source": [
    "with open(image_class_labels,'r') as f:\n",
    "    lines=f.readlines()\n",
    "\n",
    "labels={}\n",
    "for line in lines:\n",
    "    id,cls=line.strip().split(' ')\n",
    "    labels[id]=int(cls)\n",
    "    \n",
    "csv_labels=[]\n",
    "for index in data_csv.index:\n",
    "    id=data_csv.loc[index]['id']\n",
    "    csv_labels.append(labels[id])"
   ]
  },
  {
   "cell_type": "code",
   "execution_count": 12,
   "metadata": {},
   "outputs": [],
   "source": [
    "data_csv['cls']=csv_labels"
   ]
  },
  {
   "cell_type": "code",
   "execution_count": 14,
   "metadata": {},
   "outputs": [],
   "source": [
    "data_csv['cls']=data_csv['cls']-1"
   ]
  },
  {
   "cell_type": "code",
   "execution_count": 15,
   "metadata": {},
   "outputs": [
    {
     "data": {
      "text/html": [
       "<div>\n",
       "<style scoped>\n",
       "    .dataframe tbody tr th:only-of-type {\n",
       "        vertical-align: middle;\n",
       "    }\n",
       "\n",
       "    .dataframe tbody tr th {\n",
       "        vertical-align: top;\n",
       "    }\n",
       "\n",
       "    .dataframe thead th {\n",
       "        text-align: right;\n",
       "    }\n",
       "</style>\n",
       "<table border=\"1\" class=\"dataframe\">\n",
       "  <thead>\n",
       "    <tr style=\"text-align: right;\">\n",
       "      <th></th>\n",
       "      <th>id</th>\n",
       "      <th>path</th>\n",
       "      <th>cls</th>\n",
       "    </tr>\n",
       "  </thead>\n",
       "  <tbody>\n",
       "    <tr>\n",
       "      <th>0</th>\n",
       "      <td>1</td>\n",
       "      <td>images/001.Black_footed_Albatross/Black_Footed...</td>\n",
       "      <td>0</td>\n",
       "    </tr>\n",
       "    <tr>\n",
       "      <th>1</th>\n",
       "      <td>2</td>\n",
       "      <td>images/001.Black_footed_Albatross/Black_Footed...</td>\n",
       "      <td>0</td>\n",
       "    </tr>\n",
       "    <tr>\n",
       "      <th>2</th>\n",
       "      <td>3</td>\n",
       "      <td>images/001.Black_footed_Albatross/Black_Footed...</td>\n",
       "      <td>0</td>\n",
       "    </tr>\n",
       "    <tr>\n",
       "      <th>3</th>\n",
       "      <td>4</td>\n",
       "      <td>images/001.Black_footed_Albatross/Black_Footed...</td>\n",
       "      <td>0</td>\n",
       "    </tr>\n",
       "    <tr>\n",
       "      <th>4</th>\n",
       "      <td>5</td>\n",
       "      <td>images/001.Black_footed_Albatross/Black_Footed...</td>\n",
       "      <td>0</td>\n",
       "    </tr>\n",
       "  </tbody>\n",
       "</table>\n",
       "</div>"
      ],
      "text/plain": [
       "  id                                               path  cls\n",
       "0  1  images/001.Black_footed_Albatross/Black_Footed...    0\n",
       "1  2  images/001.Black_footed_Albatross/Black_Footed...    0\n",
       "2  3  images/001.Black_footed_Albatross/Black_Footed...    0\n",
       "3  4  images/001.Black_footed_Albatross/Black_Footed...    0\n",
       "4  5  images/001.Black_footed_Albatross/Black_Footed...    0"
      ]
     },
     "execution_count": 15,
     "metadata": {},
     "output_type": "execute_result"
    }
   ],
   "source": [
    "data_csv.head()"
   ]
  },
  {
   "cell_type": "markdown",
   "metadata": {},
   "source": [
    "# 添加bbox"
   ]
  },
  {
   "cell_type": "code",
   "execution_count": 16,
   "metadata": {},
   "outputs": [],
   "source": [
    "with open(bbox_file,'r') as f:\n",
    "    lines=f.readlines()\n",
    "    \n",
    "bbox_dict={}\n",
    "for line in lines:\n",
    "    item=line.strip().split(' ')\n",
    "    id=item[0]\n",
    "    bbox=' '.join(item[1:])\n",
    "    bbox_dict[id]=bbox\n",
    "    \n",
    "bbox=[]\n",
    "for index in data_csv.index:\n",
    "    id=data_csv.loc[index]['id']\n",
    "    bbox.append(bbox_dict[id])"
   ]
  },
  {
   "cell_type": "code",
   "execution_count": 17,
   "metadata": {},
   "outputs": [],
   "source": [
    "data_csv['bbox']=bbox"
   ]
  },
  {
   "cell_type": "code",
   "execution_count": 18,
   "metadata": {},
   "outputs": [
    {
     "data": {
      "text/html": [
       "<div>\n",
       "<style scoped>\n",
       "    .dataframe tbody tr th:only-of-type {\n",
       "        vertical-align: middle;\n",
       "    }\n",
       "\n",
       "    .dataframe tbody tr th {\n",
       "        vertical-align: top;\n",
       "    }\n",
       "\n",
       "    .dataframe thead th {\n",
       "        text-align: right;\n",
       "    }\n",
       "</style>\n",
       "<table border=\"1\" class=\"dataframe\">\n",
       "  <thead>\n",
       "    <tr style=\"text-align: right;\">\n",
       "      <th></th>\n",
       "      <th>id</th>\n",
       "      <th>path</th>\n",
       "      <th>cls</th>\n",
       "      <th>bbox</th>\n",
       "    </tr>\n",
       "  </thead>\n",
       "  <tbody>\n",
       "    <tr>\n",
       "      <th>0</th>\n",
       "      <td>1</td>\n",
       "      <td>images/001.Black_footed_Albatross/Black_Footed...</td>\n",
       "      <td>0</td>\n",
       "      <td>60.0 27.0 325.0 304.0</td>\n",
       "    </tr>\n",
       "    <tr>\n",
       "      <th>1</th>\n",
       "      <td>2</td>\n",
       "      <td>images/001.Black_footed_Albatross/Black_Footed...</td>\n",
       "      <td>0</td>\n",
       "      <td>139.0 30.0 153.0 264.0</td>\n",
       "    </tr>\n",
       "    <tr>\n",
       "      <th>2</th>\n",
       "      <td>3</td>\n",
       "      <td>images/001.Black_footed_Albatross/Black_Footed...</td>\n",
       "      <td>0</td>\n",
       "      <td>14.0 112.0 388.0 186.0</td>\n",
       "    </tr>\n",
       "    <tr>\n",
       "      <th>3</th>\n",
       "      <td>4</td>\n",
       "      <td>images/001.Black_footed_Albatross/Black_Footed...</td>\n",
       "      <td>0</td>\n",
       "      <td>112.0 90.0 255.0 242.0</td>\n",
       "    </tr>\n",
       "    <tr>\n",
       "      <th>4</th>\n",
       "      <td>5</td>\n",
       "      <td>images/001.Black_footed_Albatross/Black_Footed...</td>\n",
       "      <td>0</td>\n",
       "      <td>70.0 50.0 134.0 303.0</td>\n",
       "    </tr>\n",
       "  </tbody>\n",
       "</table>\n",
       "</div>"
      ],
      "text/plain": [
       "  id                                               path  cls  \\\n",
       "0  1  images/001.Black_footed_Albatross/Black_Footed...    0   \n",
       "1  2  images/001.Black_footed_Albatross/Black_Footed...    0   \n",
       "2  3  images/001.Black_footed_Albatross/Black_Footed...    0   \n",
       "3  4  images/001.Black_footed_Albatross/Black_Footed...    0   \n",
       "4  5  images/001.Black_footed_Albatross/Black_Footed...    0   \n",
       "\n",
       "                     bbox  \n",
       "0   60.0 27.0 325.0 304.0  \n",
       "1  139.0 30.0 153.0 264.0  \n",
       "2  14.0 112.0 388.0 186.0  \n",
       "3  112.0 90.0 255.0 242.0  \n",
       "4   70.0 50.0 134.0 303.0  "
      ]
     },
     "execution_count": 18,
     "metadata": {},
     "output_type": "execute_result"
    }
   ],
   "source": [
    "data_csv.head()"
   ]
  },
  {
   "cell_type": "markdown",
   "metadata": {},
   "source": [
    "# 添加split"
   ]
  },
  {
   "cell_type": "code",
   "execution_count": 19,
   "metadata": {},
   "outputs": [],
   "source": [
    "with open(train_test_split,'r') as f:\n",
    "    lines=f.readlines()\n",
    "\n",
    "split_dict={}\n",
    "for line in lines:\n",
    "    id,is_train=line.strip().split(' ')\n",
    "    split_dict[id]=int(is_train)\n",
    "\n",
    "split_list=[]\n",
    "for index in data_csv.index:\n",
    "    id=data_csv.loc[index]['id']\n",
    "    split_list.append(split_dict[id])"
   ]
  },
  {
   "cell_type": "code",
   "execution_count": 20,
   "metadata": {},
   "outputs": [],
   "source": [
    "data_csv['is_train']=split_list"
   ]
  },
  {
   "cell_type": "code",
   "execution_count": 21,
   "metadata": {},
   "outputs": [
    {
     "data": {
      "text/html": [
       "<div>\n",
       "<style scoped>\n",
       "    .dataframe tbody tr th:only-of-type {\n",
       "        vertical-align: middle;\n",
       "    }\n",
       "\n",
       "    .dataframe tbody tr th {\n",
       "        vertical-align: top;\n",
       "    }\n",
       "\n",
       "    .dataframe thead th {\n",
       "        text-align: right;\n",
       "    }\n",
       "</style>\n",
       "<table border=\"1\" class=\"dataframe\">\n",
       "  <thead>\n",
       "    <tr style=\"text-align: right;\">\n",
       "      <th></th>\n",
       "      <th>id</th>\n",
       "      <th>path</th>\n",
       "      <th>cls</th>\n",
       "      <th>bbox</th>\n",
       "      <th>is_train</th>\n",
       "    </tr>\n",
       "  </thead>\n",
       "  <tbody>\n",
       "    <tr>\n",
       "      <th>0</th>\n",
       "      <td>1</td>\n",
       "      <td>images/001.Black_footed_Albatross/Black_Footed...</td>\n",
       "      <td>0</td>\n",
       "      <td>60.0 27.0 325.0 304.0</td>\n",
       "      <td>0</td>\n",
       "    </tr>\n",
       "    <tr>\n",
       "      <th>1</th>\n",
       "      <td>2</td>\n",
       "      <td>images/001.Black_footed_Albatross/Black_Footed...</td>\n",
       "      <td>0</td>\n",
       "      <td>139.0 30.0 153.0 264.0</td>\n",
       "      <td>1</td>\n",
       "    </tr>\n",
       "    <tr>\n",
       "      <th>2</th>\n",
       "      <td>3</td>\n",
       "      <td>images/001.Black_footed_Albatross/Black_Footed...</td>\n",
       "      <td>0</td>\n",
       "      <td>14.0 112.0 388.0 186.0</td>\n",
       "      <td>0</td>\n",
       "    </tr>\n",
       "    <tr>\n",
       "      <th>3</th>\n",
       "      <td>4</td>\n",
       "      <td>images/001.Black_footed_Albatross/Black_Footed...</td>\n",
       "      <td>0</td>\n",
       "      <td>112.0 90.0 255.0 242.0</td>\n",
       "      <td>1</td>\n",
       "    </tr>\n",
       "    <tr>\n",
       "      <th>4</th>\n",
       "      <td>5</td>\n",
       "      <td>images/001.Black_footed_Albatross/Black_Footed...</td>\n",
       "      <td>0</td>\n",
       "      <td>70.0 50.0 134.0 303.0</td>\n",
       "      <td>1</td>\n",
       "    </tr>\n",
       "  </tbody>\n",
       "</table>\n",
       "</div>"
      ],
      "text/plain": [
       "  id                                               path  cls  \\\n",
       "0  1  images/001.Black_footed_Albatross/Black_Footed...    0   \n",
       "1  2  images/001.Black_footed_Albatross/Black_Footed...    0   \n",
       "2  3  images/001.Black_footed_Albatross/Black_Footed...    0   \n",
       "3  4  images/001.Black_footed_Albatross/Black_Footed...    0   \n",
       "4  5  images/001.Black_footed_Albatross/Black_Footed...    0   \n",
       "\n",
       "                     bbox  is_train  \n",
       "0   60.0 27.0 325.0 304.0         0  \n",
       "1  139.0 30.0 153.0 264.0         1  \n",
       "2  14.0 112.0 388.0 186.0         0  \n",
       "3  112.0 90.0 255.0 242.0         1  \n",
       "4   70.0 50.0 134.0 303.0         1  "
      ]
     },
     "execution_count": 21,
     "metadata": {},
     "output_type": "execute_result"
    }
   ],
   "source": [
    "data_csv.head()"
   ]
  },
  {
   "cell_type": "markdown",
   "metadata": {},
   "source": [
    "# 保存"
   ]
  },
  {
   "cell_type": "code",
   "execution_count": 22,
   "metadata": {},
   "outputs": [],
   "source": [
    "data_csv.to_csv('../save/data/data.csv',index=False)"
   ]
  },
  {
   "cell_type": "code",
   "execution_count": null,
   "metadata": {},
   "outputs": [],
   "source": []
  }
 ],
 "metadata": {
  "kernelspec": {
   "display_name": "Python 3",
   "language": "python",
   "name": "python3"
  },
  "language_info": {
   "codemirror_mode": {
    "name": "ipython",
    "version": 3
   },
   "file_extension": ".py",
   "mimetype": "text/x-python",
   "name": "python",
   "nbconvert_exporter": "python",
   "pygments_lexer": "ipython3",
   "version": "3.7.1"
  }
 },
 "nbformat": 4,
 "nbformat_minor": 2
}
