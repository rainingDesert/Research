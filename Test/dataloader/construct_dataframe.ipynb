{
 "cells": [
  {
   "cell_type": "code",
   "execution_count": 56,
   "metadata": {},
   "outputs": [],
   "source": [
    "import pandas as pd\n",
    "import numpy as np\n",
    "from tqdm import tqdm_notebook\n",
    "import os"
   ]
  },
  {
   "cell_type": "code",
   "execution_count": 40,
   "metadata": {},
   "outputs": [],
   "source": [
    "root_data_path='../../../../Data/imgnet_localization/'"
   ]
  },
  {
   "cell_type": "markdown",
   "metadata": {},
   "source": [
    "# train solution"
   ]
  },
  {
   "cell_type": "code",
   "execution_count": 41,
   "metadata": {},
   "outputs": [],
   "source": [
    "train_solution=pd.read_csv(root_data_path+'LOC_train_solution.csv')"
   ]
  },
  {
   "cell_type": "code",
   "execution_count": 42,
   "metadata": {},
   "outputs": [
    {
     "data": {
      "text/html": [
       "<div>\n",
       "<style scoped>\n",
       "    .dataframe tbody tr th:only-of-type {\n",
       "        vertical-align: middle;\n",
       "    }\n",
       "\n",
       "    .dataframe tbody tr th {\n",
       "        vertical-align: top;\n",
       "    }\n",
       "\n",
       "    .dataframe thead th {\n",
       "        text-align: right;\n",
       "    }\n",
       "</style>\n",
       "<table border=\"1\" class=\"dataframe\">\n",
       "  <thead>\n",
       "    <tr style=\"text-align: right;\">\n",
       "      <th></th>\n",
       "      <th>ImageId</th>\n",
       "      <th>PredictionString</th>\n",
       "    </tr>\n",
       "  </thead>\n",
       "  <tbody>\n",
       "    <tr>\n",
       "      <th>0</th>\n",
       "      <td>n02017213_7894</td>\n",
       "      <td>n02017213 115 49 448 294</td>\n",
       "    </tr>\n",
       "    <tr>\n",
       "      <th>1</th>\n",
       "      <td>n02017213_7261</td>\n",
       "      <td>n02017213 91 42 330 432</td>\n",
       "    </tr>\n",
       "    <tr>\n",
       "      <th>2</th>\n",
       "      <td>n02017213_5636</td>\n",
       "      <td>n02017213 230 104 414 224</td>\n",
       "    </tr>\n",
       "    <tr>\n",
       "      <th>3</th>\n",
       "      <td>n02017213_6132</td>\n",
       "      <td>n02017213 46 82 464 387</td>\n",
       "    </tr>\n",
       "    <tr>\n",
       "      <th>4</th>\n",
       "      <td>n02017213_7659</td>\n",
       "      <td>n02017213 103 66 331 335</td>\n",
       "    </tr>\n",
       "  </tbody>\n",
       "</table>\n",
       "</div>"
      ],
      "text/plain": [
       "          ImageId            PredictionString\n",
       "0  n02017213_7894   n02017213 115 49 448 294 \n",
       "1  n02017213_7261    n02017213 91 42 330 432 \n",
       "2  n02017213_5636  n02017213 230 104 414 224 \n",
       "3  n02017213_6132    n02017213 46 82 464 387 \n",
       "4  n02017213_7659   n02017213 103 66 331 335 "
      ]
     },
     "execution_count": 42,
     "metadata": {},
     "output_type": "execute_result"
    }
   ],
   "source": [
    "train_solution.head()"
   ]
  },
  {
   "cell_type": "markdown",
   "metadata": {},
   "source": [
    "# val solution"
   ]
  },
  {
   "cell_type": "code",
   "execution_count": 43,
   "metadata": {},
   "outputs": [],
   "source": [
    "val_solution=pd.read_csv(root_data_path+'LOC_val_solution.csv')"
   ]
  },
  {
   "cell_type": "code",
   "execution_count": 44,
   "metadata": {},
   "outputs": [
    {
     "data": {
      "text/html": [
       "<div>\n",
       "<style scoped>\n",
       "    .dataframe tbody tr th:only-of-type {\n",
       "        vertical-align: middle;\n",
       "    }\n",
       "\n",
       "    .dataframe tbody tr th {\n",
       "        vertical-align: top;\n",
       "    }\n",
       "\n",
       "    .dataframe thead th {\n",
       "        text-align: right;\n",
       "    }\n",
       "</style>\n",
       "<table border=\"1\" class=\"dataframe\">\n",
       "  <thead>\n",
       "    <tr style=\"text-align: right;\">\n",
       "      <th></th>\n",
       "      <th>ImageId</th>\n",
       "      <th>PredictionString</th>\n",
       "    </tr>\n",
       "  </thead>\n",
       "  <tbody>\n",
       "    <tr>\n",
       "      <th>0</th>\n",
       "      <td>ILSVRC2012_val_00048981</td>\n",
       "      <td>n03995372 85 1 499 272</td>\n",
       "    </tr>\n",
       "    <tr>\n",
       "      <th>1</th>\n",
       "      <td>ILSVRC2012_val_00037956</td>\n",
       "      <td>n03481172 131 0 499 254</td>\n",
       "    </tr>\n",
       "    <tr>\n",
       "      <th>2</th>\n",
       "      <td>ILSVRC2012_val_00026161</td>\n",
       "      <td>n02108000 38 0 464 280</td>\n",
       "    </tr>\n",
       "    <tr>\n",
       "      <th>3</th>\n",
       "      <td>ILSVRC2012_val_00026171</td>\n",
       "      <td>n03109150 0 14 216 299</td>\n",
       "    </tr>\n",
       "    <tr>\n",
       "      <th>4</th>\n",
       "      <td>ILSVRC2012_val_00008726</td>\n",
       "      <td>n02119789 255 142 454 329 n02119789 44 21 322 ...</td>\n",
       "    </tr>\n",
       "  </tbody>\n",
       "</table>\n",
       "</div>"
      ],
      "text/plain": [
       "                   ImageId                                   PredictionString\n",
       "0  ILSVRC2012_val_00048981                            n03995372 85 1 499 272 \n",
       "1  ILSVRC2012_val_00037956                           n03481172 131 0 499 254 \n",
       "2  ILSVRC2012_val_00026161                            n02108000 38 0 464 280 \n",
       "3  ILSVRC2012_val_00026171                            n03109150 0 14 216 299 \n",
       "4  ILSVRC2012_val_00008726  n02119789 255 142 454 329 n02119789 44 21 322 ..."
      ]
     },
     "execution_count": 44,
     "metadata": {},
     "output_type": "execute_result"
    }
   ],
   "source": [
    "val_solution.head()"
   ]
  },
  {
   "cell_type": "markdown",
   "metadata": {},
   "source": [
    "# combine two csv"
   ]
  },
  {
   "cell_type": "code",
   "execution_count": 45,
   "metadata": {},
   "outputs": [],
   "source": [
    "train_solution['is_val']=0\n",
    "val_solution['is_val']=1"
   ]
  },
  {
   "cell_type": "code",
   "execution_count": 46,
   "metadata": {},
   "outputs": [],
   "source": [
    "data_csv=pd.concat([train_solution, val_solution], ignore_index=True)"
   ]
  },
  {
   "cell_type": "code",
   "execution_count": 47,
   "metadata": {},
   "outputs": [
    {
     "data": {
      "text/html": [
       "<div>\n",
       "<style scoped>\n",
       "    .dataframe tbody tr th:only-of-type {\n",
       "        vertical-align: middle;\n",
       "    }\n",
       "\n",
       "    .dataframe tbody tr th {\n",
       "        vertical-align: top;\n",
       "    }\n",
       "\n",
       "    .dataframe thead th {\n",
       "        text-align: right;\n",
       "    }\n",
       "</style>\n",
       "<table border=\"1\" class=\"dataframe\">\n",
       "  <thead>\n",
       "    <tr style=\"text-align: right;\">\n",
       "      <th></th>\n",
       "      <th>ImageId</th>\n",
       "      <th>PredictionString</th>\n",
       "      <th>is_val</th>\n",
       "    </tr>\n",
       "  </thead>\n",
       "  <tbody>\n",
       "    <tr>\n",
       "      <th>0</th>\n",
       "      <td>n02017213_7894</td>\n",
       "      <td>n02017213 115 49 448 294</td>\n",
       "      <td>0</td>\n",
       "    </tr>\n",
       "    <tr>\n",
       "      <th>1</th>\n",
       "      <td>n02017213_7261</td>\n",
       "      <td>n02017213 91 42 330 432</td>\n",
       "      <td>0</td>\n",
       "    </tr>\n",
       "    <tr>\n",
       "      <th>2</th>\n",
       "      <td>n02017213_5636</td>\n",
       "      <td>n02017213 230 104 414 224</td>\n",
       "      <td>0</td>\n",
       "    </tr>\n",
       "    <tr>\n",
       "      <th>3</th>\n",
       "      <td>n02017213_6132</td>\n",
       "      <td>n02017213 46 82 464 387</td>\n",
       "      <td>0</td>\n",
       "    </tr>\n",
       "    <tr>\n",
       "      <th>4</th>\n",
       "      <td>n02017213_7659</td>\n",
       "      <td>n02017213 103 66 331 335</td>\n",
       "      <td>0</td>\n",
       "    </tr>\n",
       "  </tbody>\n",
       "</table>\n",
       "</div>"
      ],
      "text/plain": [
       "          ImageId            PredictionString  is_val\n",
       "0  n02017213_7894   n02017213 115 49 448 294        0\n",
       "1  n02017213_7261    n02017213 91 42 330 432        0\n",
       "2  n02017213_5636  n02017213 230 104 414 224        0\n",
       "3  n02017213_6132    n02017213 46 82 464 387        0\n",
       "4  n02017213_7659   n02017213 103 66 331 335        0"
      ]
     },
     "execution_count": 47,
     "metadata": {},
     "output_type": "execute_result"
    }
   ],
   "source": [
    "data_csv.head()"
   ]
  },
  {
   "cell_type": "markdown",
   "metadata": {},
   "source": [
    "# add bbox&class"
   ]
  },
  {
   "cell_type": "code",
   "execution_count": 48,
   "metadata": {},
   "outputs": [
    {
     "data": {
      "text/plain": [
       "HBox(children=(IntProgress(value=0, max=594546), HTML(value='')))"
      ]
     },
     "metadata": {},
     "output_type": "display_data"
    }
   ],
   "source": [
    "cls=[]\n",
    "bbox=[]\n",
    "for index in tqdm_notebook(data_csv.index):\n",
    "    preStr=data_csv.loc[index]['PredictionString'].strip().split(' ')\n",
    "    cls.append(preStr[0])\n",
    "    if len(preStr)==5:\n",
    "        bbox.append(' '.join(preStr[1:]))\n",
    "    \n",
    "    else:\n",
    "        bbox_preStr=[item for item in preStr if 'n' not in item]\n",
    "        bbox.append(' '.join(bbox_preStr))"
   ]
  },
  {
   "cell_type": "code",
   "execution_count": 49,
   "metadata": {},
   "outputs": [],
   "source": [
    "data_csv['cls']=cls\n",
    "data_csv['bbox']=bbox"
   ]
  },
  {
   "cell_type": "code",
   "execution_count": 50,
   "metadata": {},
   "outputs": [],
   "source": [
    "data_csv.drop(['PredictionString'],inplace=True,axis=1)"
   ]
  },
  {
   "cell_type": "code",
   "execution_count": 51,
   "metadata": {},
   "outputs": [
    {
     "data": {
      "text/html": [
       "<div>\n",
       "<style scoped>\n",
       "    .dataframe tbody tr th:only-of-type {\n",
       "        vertical-align: middle;\n",
       "    }\n",
       "\n",
       "    .dataframe tbody tr th {\n",
       "        vertical-align: top;\n",
       "    }\n",
       "\n",
       "    .dataframe thead th {\n",
       "        text-align: right;\n",
       "    }\n",
       "</style>\n",
       "<table border=\"1\" class=\"dataframe\">\n",
       "  <thead>\n",
       "    <tr style=\"text-align: right;\">\n",
       "      <th></th>\n",
       "      <th>ImageId</th>\n",
       "      <th>is_val</th>\n",
       "      <th>cls</th>\n",
       "      <th>bbox</th>\n",
       "    </tr>\n",
       "  </thead>\n",
       "  <tbody>\n",
       "    <tr>\n",
       "      <th>0</th>\n",
       "      <td>n02017213_7894</td>\n",
       "      <td>0</td>\n",
       "      <td>n02017213</td>\n",
       "      <td>115 49 448 294</td>\n",
       "    </tr>\n",
       "    <tr>\n",
       "      <th>1</th>\n",
       "      <td>n02017213_7261</td>\n",
       "      <td>0</td>\n",
       "      <td>n02017213</td>\n",
       "      <td>91 42 330 432</td>\n",
       "    </tr>\n",
       "    <tr>\n",
       "      <th>2</th>\n",
       "      <td>n02017213_5636</td>\n",
       "      <td>0</td>\n",
       "      <td>n02017213</td>\n",
       "      <td>230 104 414 224</td>\n",
       "    </tr>\n",
       "    <tr>\n",
       "      <th>3</th>\n",
       "      <td>n02017213_6132</td>\n",
       "      <td>0</td>\n",
       "      <td>n02017213</td>\n",
       "      <td>46 82 464 387</td>\n",
       "    </tr>\n",
       "    <tr>\n",
       "      <th>4</th>\n",
       "      <td>n02017213_7659</td>\n",
       "      <td>0</td>\n",
       "      <td>n02017213</td>\n",
       "      <td>103 66 331 335</td>\n",
       "    </tr>\n",
       "  </tbody>\n",
       "</table>\n",
       "</div>"
      ],
      "text/plain": [
       "          ImageId  is_val        cls             bbox\n",
       "0  n02017213_7894       0  n02017213   115 49 448 294\n",
       "1  n02017213_7261       0  n02017213    91 42 330 432\n",
       "2  n02017213_5636       0  n02017213  230 104 414 224\n",
       "3  n02017213_6132       0  n02017213    46 82 464 387\n",
       "4  n02017213_7659       0  n02017213   103 66 331 335"
      ]
     },
     "execution_count": 51,
     "metadata": {},
     "output_type": "execute_result"
    }
   ],
   "source": [
    "data_csv.head()"
   ]
  },
  {
   "cell_type": "markdown",
   "metadata": {},
   "source": [
    "# add path"
   ]
  },
  {
   "cell_type": "code",
   "execution_count": 52,
   "metadata": {},
   "outputs": [],
   "source": [
    "train_path='ILSVRC/Data/CLS-LOC/train/'\n",
    "valpath='ILSVRC/Data/CLS-LOC/val/'"
   ]
  },
  {
   "cell_type": "code",
   "execution_count": 67,
   "metadata": {},
   "outputs": [
    {
     "data": {
      "text/plain": [
       "HBox(children=(IntProgress(value=0, max=594546), HTML(value='')))"
      ]
     },
     "metadata": {},
     "output_type": "display_data"
    }
   ],
   "source": [
    "path=[]\n",
    "for index in tqdm_notebook(data_csv.index):\n",
    "    image_id=data_csv.loc[index]['ImageId']\n",
    "    is_val=int(data_csv.loc[index]['is_val'])\n",
    "    if is_val:\n",
    "        path.append(valpath+image_id+'.JPEG')\n",
    "    else:\n",
    "        path.append(train_path+image_id.split('_')[0]+'/'+image_id+'.JPEG')"
   ]
  },
  {
   "cell_type": "code",
   "execution_count": 68,
   "metadata": {},
   "outputs": [],
   "source": [
    "data_csv['path']=path"
   ]
  },
  {
   "cell_type": "code",
   "execution_count": 69,
   "metadata": {},
   "outputs": [
    {
     "data": {
      "text/html": [
       "<div>\n",
       "<style scoped>\n",
       "    .dataframe tbody tr th:only-of-type {\n",
       "        vertical-align: middle;\n",
       "    }\n",
       "\n",
       "    .dataframe tbody tr th {\n",
       "        vertical-align: top;\n",
       "    }\n",
       "\n",
       "    .dataframe thead th {\n",
       "        text-align: right;\n",
       "    }\n",
       "</style>\n",
       "<table border=\"1\" class=\"dataframe\">\n",
       "  <thead>\n",
       "    <tr style=\"text-align: right;\">\n",
       "      <th></th>\n",
       "      <th>ImageId</th>\n",
       "      <th>is_val</th>\n",
       "      <th>cls</th>\n",
       "      <th>bbox</th>\n",
       "      <th>path</th>\n",
       "      <th>exist</th>\n",
       "    </tr>\n",
       "  </thead>\n",
       "  <tbody>\n",
       "    <tr>\n",
       "      <th>0</th>\n",
       "      <td>n02017213_7894</td>\n",
       "      <td>0</td>\n",
       "      <td>n02017213</td>\n",
       "      <td>115 49 448 294</td>\n",
       "      <td>ILSVRC/Data/CLS-LOC/train/n02017213/n02017213_...</td>\n",
       "      <td>0</td>\n",
       "    </tr>\n",
       "    <tr>\n",
       "      <th>1</th>\n",
       "      <td>n02017213_7261</td>\n",
       "      <td>0</td>\n",
       "      <td>n02017213</td>\n",
       "      <td>91 42 330 432</td>\n",
       "      <td>ILSVRC/Data/CLS-LOC/train/n02017213/n02017213_...</td>\n",
       "      <td>0</td>\n",
       "    </tr>\n",
       "    <tr>\n",
       "      <th>2</th>\n",
       "      <td>n02017213_5636</td>\n",
       "      <td>0</td>\n",
       "      <td>n02017213</td>\n",
       "      <td>230 104 414 224</td>\n",
       "      <td>ILSVRC/Data/CLS-LOC/train/n02017213/n02017213_...</td>\n",
       "      <td>0</td>\n",
       "    </tr>\n",
       "    <tr>\n",
       "      <th>3</th>\n",
       "      <td>n02017213_6132</td>\n",
       "      <td>0</td>\n",
       "      <td>n02017213</td>\n",
       "      <td>46 82 464 387</td>\n",
       "      <td>ILSVRC/Data/CLS-LOC/train/n02017213/n02017213_...</td>\n",
       "      <td>0</td>\n",
       "    </tr>\n",
       "    <tr>\n",
       "      <th>4</th>\n",
       "      <td>n02017213_7659</td>\n",
       "      <td>0</td>\n",
       "      <td>n02017213</td>\n",
       "      <td>103 66 331 335</td>\n",
       "      <td>ILSVRC/Data/CLS-LOC/train/n02017213/n02017213_...</td>\n",
       "      <td>0</td>\n",
       "    </tr>\n",
       "  </tbody>\n",
       "</table>\n",
       "</div>"
      ],
      "text/plain": [
       "          ImageId  is_val        cls             bbox  \\\n",
       "0  n02017213_7894       0  n02017213   115 49 448 294   \n",
       "1  n02017213_7261       0  n02017213    91 42 330 432   \n",
       "2  n02017213_5636       0  n02017213  230 104 414 224   \n",
       "3  n02017213_6132       0  n02017213    46 82 464 387   \n",
       "4  n02017213_7659       0  n02017213   103 66 331 335   \n",
       "\n",
       "                                                path  exist  \n",
       "0  ILSVRC/Data/CLS-LOC/train/n02017213/n02017213_...      0  \n",
       "1  ILSVRC/Data/CLS-LOC/train/n02017213/n02017213_...      0  \n",
       "2  ILSVRC/Data/CLS-LOC/train/n02017213/n02017213_...      0  \n",
       "3  ILSVRC/Data/CLS-LOC/train/n02017213/n02017213_...      0  \n",
       "4  ILSVRC/Data/CLS-LOC/train/n02017213/n02017213_...      0  "
      ]
     },
     "execution_count": 69,
     "metadata": {},
     "output_type": "execute_result"
    }
   ],
   "source": [
    "data_csv.head()"
   ]
  },
  {
   "cell_type": "markdown",
   "metadata": {},
   "source": [
    "# delete nonexist imgs"
   ]
  },
  {
   "cell_type": "code",
   "execution_count": 70,
   "metadata": {},
   "outputs": [
    {
     "data": {
      "text/plain": [
       "HBox(children=(IntProgress(value=0, max=594546), HTML(value='')))"
      ]
     },
     "metadata": {},
     "output_type": "display_data"
    }
   ],
   "source": [
    "valid_index=[]\n",
    "for index in tqdm_notebook(data_csv.index):\n",
    "    img_path=root_data_path+data_csv.loc[index]['path']\n",
    "    if os.path.exists(img_path):\n",
    "        valid_index.append(1)\n",
    "    else:\n",
    "        valid_index.append(0)"
   ]
  },
  {
   "cell_type": "code",
   "execution_count": 71,
   "metadata": {},
   "outputs": [],
   "source": [
    "data_csv['exist']=valid_index"
   ]
  },
  {
   "cell_type": "code",
   "execution_count": 72,
   "metadata": {},
   "outputs": [
    {
     "data": {
      "text/html": [
       "<div>\n",
       "<style scoped>\n",
       "    .dataframe tbody tr th:only-of-type {\n",
       "        vertical-align: middle;\n",
       "    }\n",
       "\n",
       "    .dataframe tbody tr th {\n",
       "        vertical-align: top;\n",
       "    }\n",
       "\n",
       "    .dataframe thead th {\n",
       "        text-align: right;\n",
       "    }\n",
       "</style>\n",
       "<table border=\"1\" class=\"dataframe\">\n",
       "  <thead>\n",
       "    <tr style=\"text-align: right;\">\n",
       "      <th></th>\n",
       "      <th>ImageId</th>\n",
       "      <th>is_val</th>\n",
       "      <th>cls</th>\n",
       "      <th>bbox</th>\n",
       "      <th>path</th>\n",
       "      <th>exist</th>\n",
       "    </tr>\n",
       "  </thead>\n",
       "  <tbody>\n",
       "    <tr>\n",
       "      <th>0</th>\n",
       "      <td>n02017213_7894</td>\n",
       "      <td>0</td>\n",
       "      <td>n02017213</td>\n",
       "      <td>115 49 448 294</td>\n",
       "      <td>ILSVRC/Data/CLS-LOC/train/n02017213/n02017213_...</td>\n",
       "      <td>1</td>\n",
       "    </tr>\n",
       "    <tr>\n",
       "      <th>1</th>\n",
       "      <td>n02017213_7261</td>\n",
       "      <td>0</td>\n",
       "      <td>n02017213</td>\n",
       "      <td>91 42 330 432</td>\n",
       "      <td>ILSVRC/Data/CLS-LOC/train/n02017213/n02017213_...</td>\n",
       "      <td>1</td>\n",
       "    </tr>\n",
       "    <tr>\n",
       "      <th>2</th>\n",
       "      <td>n02017213_5636</td>\n",
       "      <td>0</td>\n",
       "      <td>n02017213</td>\n",
       "      <td>230 104 414 224</td>\n",
       "      <td>ILSVRC/Data/CLS-LOC/train/n02017213/n02017213_...</td>\n",
       "      <td>1</td>\n",
       "    </tr>\n",
       "    <tr>\n",
       "      <th>3</th>\n",
       "      <td>n02017213_6132</td>\n",
       "      <td>0</td>\n",
       "      <td>n02017213</td>\n",
       "      <td>46 82 464 387</td>\n",
       "      <td>ILSVRC/Data/CLS-LOC/train/n02017213/n02017213_...</td>\n",
       "      <td>1</td>\n",
       "    </tr>\n",
       "    <tr>\n",
       "      <th>4</th>\n",
       "      <td>n02017213_7659</td>\n",
       "      <td>0</td>\n",
       "      <td>n02017213</td>\n",
       "      <td>103 66 331 335</td>\n",
       "      <td>ILSVRC/Data/CLS-LOC/train/n02017213/n02017213_...</td>\n",
       "      <td>1</td>\n",
       "    </tr>\n",
       "  </tbody>\n",
       "</table>\n",
       "</div>"
      ],
      "text/plain": [
       "          ImageId  is_val        cls             bbox  \\\n",
       "0  n02017213_7894       0  n02017213   115 49 448 294   \n",
       "1  n02017213_7261       0  n02017213    91 42 330 432   \n",
       "2  n02017213_5636       0  n02017213  230 104 414 224   \n",
       "3  n02017213_6132       0  n02017213    46 82 464 387   \n",
       "4  n02017213_7659       0  n02017213   103 66 331 335   \n",
       "\n",
       "                                                path  exist  \n",
       "0  ILSVRC/Data/CLS-LOC/train/n02017213/n02017213_...      1  \n",
       "1  ILSVRC/Data/CLS-LOC/train/n02017213/n02017213_...      1  \n",
       "2  ILSVRC/Data/CLS-LOC/train/n02017213/n02017213_...      1  \n",
       "3  ILSVRC/Data/CLS-LOC/train/n02017213/n02017213_...      1  \n",
       "4  ILSVRC/Data/CLS-LOC/train/n02017213/n02017213_...      1  "
      ]
     },
     "execution_count": 72,
     "metadata": {},
     "output_type": "execute_result"
    }
   ],
   "source": [
    "data_csv.head()"
   ]
  },
  {
   "cell_type": "code",
   "execution_count": 73,
   "metadata": {},
   "outputs": [],
   "source": [
    "data_csv.to_csv('../save/data.csv',index=False)"
   ]
  },
  {
   "cell_type": "code",
   "execution_count": null,
   "metadata": {},
   "outputs": [],
   "source": []
  }
 ],
 "metadata": {
  "kernelspec": {
   "display_name": "Python 3",
   "language": "python",
   "name": "python3"
  },
  "language_info": {
   "codemirror_mode": {
    "name": "ipython",
    "version": 3
   },
   "file_extension": ".py",
   "mimetype": "text/x-python",
   "name": "python",
   "nbconvert_exporter": "python",
   "pygments_lexer": "ipython3",
   "version": "3.7.1"
  }
 },
 "nbformat": 4,
 "nbformat_minor": 2
}
