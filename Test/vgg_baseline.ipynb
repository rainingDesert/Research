{
 "cells": [
  {
   "cell_type": "code",
   "execution_count": 1,
   "metadata": {},
   "outputs": [],
   "source": [
    "import pandas as pd\n",
    "import numpy as np\n",
    "import random\n",
    "import easydict\n",
    "import ast\n",
    "from tqdm import tqdm_notebook\n",
    "import os\n",
    "import matplotlib.pyplot as plt\n",
    "import sys\n",
    "\n",
    "from torchvision import transforms\n",
    "from PIL import Image\n",
    "from torch.utils.data import DataLoader\n",
    "import torch.nn as nn\n",
    "import torch.optim as optim\n",
    "import torch\n",
    "import torchvision.models as models\n",
    "import torch.nn.functional as F\n",
    "\n",
    "from functions.cus_plot import plot_train_process,plot_different_figs\n",
    "from functions.helper import *"
   ]
  },
  {
   "cell_type": "code",
   "execution_count": 2,
   "metadata": {},
   "outputs": [],
   "source": [
    "args=easydict.EasyDict({\n",
    "    'batch_size':32,\n",
    "    'epoch':50,\n",
    "    'data_root_path':'d:/Data/CUB/CUB_200_2011/',\n",
    "    'csv_path':'save/data/data.csv',\n",
    "    'lr':0.001,\n",
    "    'train_log':'save/train_log.txt',\n",
    "    'train_model':'save/model/base_vgg16.pt',\n",
    "    'train_img':'save/img/train_process.png',\n",
    "    'class_nums':200,\n",
    "    'train_img_size':224,\n",
    "    'cls_loss':'CE',\n",
    "    'weight_decay':0.0001,\n",
    "    'nesterov':False,\n",
    "    'check_path':'save/train/check.pkl',\n",
    "    'continue_train':True\n",
    "})"
   ]
  },
  {
   "cell_type": "markdown",
   "metadata": {},
   "source": [
    "# Dataloader"
   ]
  },
  {
   "cell_type": "code",
   "execution_count": 3,
   "metadata": {},
   "outputs": [],
   "source": [
    "class Loader:\n",
    "    def __init__(self, args, mode='train'):\n",
    "        self.data_csv = pd.read_csv(args.csv_path)\n",
    "        self.mode = mode\n",
    "        self.args = args\n",
    "        self.img_size = args.train_img_size\n",
    "        self.class_nums=args.class_nums\n",
    "\n",
    "        self.train_csv=self.data_csv[self.data_csv['is_train']==1]\n",
    "        self.val_csv=self.data_csv[self.data_csv['is_train']==0]\n",
    "        self.train_csv.reset_index(drop=True,inplace=True)\n",
    "        self.val_csv.reset_index(drop=True,inplace=True)\n",
    "        \n",
    "        if self.mode=='train':\n",
    "            self.cur_csv=self.train_csv\n",
    "        else:\n",
    "            self.cur_csv=self.val_csv\n",
    "\n",
    "    def __getitem__(self, index):\n",
    "        item = self.cur_csv.loc[index]\n",
    "\n",
    "        img_id = item['id']\n",
    "        path = item['path']\n",
    "        label = item['cls']\n",
    "        bbox = item['bbox']\n",
    "\n",
    "        raw_img = Image.open(self.args.data_root_path + path).convert('RGB')\n",
    "        img = self.image_transform(img_size=self.img_size, mode=self.mode)(raw_img)\n",
    "\n",
    "        return img_id, img, label, bbox\n",
    "\n",
    "    def to_train(self):\n",
    "        self.mode = 'train'\n",
    "        self.cur_csv = self.train_csv\n",
    "\n",
    "    def to_val(self):\n",
    "        self.mode = 'val'\n",
    "        self.cur_csv = self.val_csv\n",
    "\n",
    "    def __len__(self):\n",
    "        return len(self.cur_csv)\n",
    "    \n",
    "    @staticmethod\n",
    "    def image_transform(img_size, mean=[0.485, 0.456, 0.406], std=[0.229, 0.224, 0.225], mode='train'):\n",
    "        if mode == 'train':\n",
    "            horizontal_flip = 0.5\n",
    "            vertical_flip = 0.5\n",
    "\n",
    "            t = [\n",
    "                transforms.RandomResizedCrop(size=img_size),\n",
    "                transforms.RandomHorizontalFlip(horizontal_flip),\n",
    "                transforms.RandomVerticalFlip(vertical_flip),\n",
    "                transforms.ColorJitter(saturation=0.4, brightness=0.4, hue=0.05),\n",
    "                transforms.ToTensor(),\n",
    "                transforms.Normalize(mean, std)\n",
    "            ]\n",
    "\n",
    "        else:\n",
    "            t = [\n",
    "                transforms.Resize((img_size, img_size)),\n",
    "                transforms.ToTensor(),\n",
    "                transforms.Normalize(mean, std)\n",
    "            ]\n",
    "\n",
    "        return transforms.Compose([v for v in t])"
   ]
  },
  {
   "cell_type": "markdown",
   "metadata": {},
   "source": [
    "# 建模"
   ]
  },
  {
   "cell_type": "code",
   "execution_count": 4,
   "metadata": {},
   "outputs": [],
   "source": [
    "class Base_vgg16(nn.Module):\n",
    "    def __init__(self, pre_trained_vgg, args, inference=False, freeze_vgg=False):\n",
    "        super(Base_vgg16, self).__init__()\n",
    "        self.inference = inference\n",
    "        self.freeze_vgg = freeze_vgg\n",
    "        self.class_nums=args.class_nums\n",
    "\n",
    "        self.features = pre_trained_vgg.features\n",
    "        self.cls = nn.Sequential(\n",
    "            nn.Dropout(0.5),\n",
    "            nn.Conv2d(512, 1024, kernel_size=3, padding=1, dilation=1),  # fc6\n",
    "            nn.ReLU(True),\n",
    "            nn.Dropout(0.5),\n",
    "            nn.Conv2d(1024, 1024, kernel_size=3, padding=1, dilation=1),  # fc6\n",
    "            nn.ReLU(True),\n",
    "            nn.Conv2d(1024, self.class_nums, kernel_size=1, padding=0)  # fc8\n",
    "        )\n",
    "\n",
    "        if self.freeze_vgg:\n",
    "            for param in self.features.parameters():\n",
    "                param.requires_grad = False\n",
    "\n",
    "    def forward(self, x):\n",
    "        if self.inference:\n",
    "            x.requires_grad_()\n",
    "            x.retain_grad()\n",
    "\n",
    "        base = self.features(x)\n",
    "        avg_pool = F.avg_pool2d(base, kernel_size=3, stride=1, padding=1)\n",
    "        cam = self.cls(avg_pool)\n",
    "        logits = torch.mean(torch.mean(cam, dim=2), dim=2)  # (1,200)\n",
    "\n",
    "        if self.inference:\n",
    "            pass\n",
    "\n",
    "        return logits, cam\n",
    "    \n",
    "    def norm_cam_2_binary(self, bi_x_grad):\n",
    "#         if len(bi_x_grad.size()) == 4:\n",
    "#             bi_x_grad = bi_x_grad.squeeze(1)\n",
    "\n",
    "#         grad_shape = bi_x_grad.size()\n",
    "#         outline = torch.zeros(grad_shape)\n",
    "#         for batch_idx in range(grad_shape[0]):\n",
    "#             thd = float(np.percentile(np.sort(bi_x_grad[batch_idx].view(-1).cpu().data.numpy()), 80))\n",
    "#             batch_outline = torch.zeros(bi_x_grad[batch_idx].size())\n",
    "#             high_pos = torch.gt(bi_x_grad[batch_idx], thd)\n",
    "#             batch_outline[high_pos.data] = 1.0\n",
    "#             outline[batch_idx, :, :] = batch_outline\n",
    "\n",
    "#         return outline\n",
    "    \n",
    "        thd = float(np.percentile(np.sort(bi_x_grad.view(-1).cpu().data.numpy()), 80))\n",
    "        outline = torch.zeros(bi_x_grad.size())\n",
    "        high_pos = torch.gt(bi_x_grad, thd)\n",
    "        outline[high_pos.data] = 1.0\n",
    "        \n",
    "        return outline"
   ]
  },
  {
   "cell_type": "code",
   "execution_count": 5,
   "metadata": {},
   "outputs": [],
   "source": [
    "def get_model(pretrained=True,**kwargs):\n",
    "    pre_trained_model = models.vgg16(pretrained=pretrained)\n",
    "\n",
    "    model = Base_vgg16(pre_trained_vgg=pre_trained_model, **kwargs)\n",
    "    model.cuda()\n",
    "\n",
    "    return model"
   ]
  },
  {
   "cell_type": "markdown",
   "metadata": {},
   "source": [
    "# Loss"
   ]
  },
  {
   "cell_type": "code",
   "execution_count": 6,
   "metadata": {},
   "outputs": [],
   "source": [
    "def get_loss_func(args):\n",
    "    if args.cls_loss=='CE':\n",
    "        return torch.nn.CrossEntropyLoss()"
   ]
  },
  {
   "cell_type": "markdown",
   "metadata": {},
   "source": [
    "# Optimzer"
   ]
  },
  {
   "cell_type": "code",
   "execution_count": 7,
   "metadata": {},
   "outputs": [],
   "source": [
    "def get_finetune_optimizer(args, model):\n",
    "    lr = args.lr\n",
    "    weight_list = []\n",
    "    bias_list = []\n",
    "    last_weight_list = []\n",
    "    last_bias_list = []\n",
    "    \n",
    "    for name, value in model.named_parameters():\n",
    "        if 'cls' in name:\n",
    "            if 'weight' in name:\n",
    "                last_weight_list.append(value)\n",
    "            elif 'bias' in name:\n",
    "                last_bias_list.append(value)\n",
    "        else:\n",
    "            if 'weight' in name:\n",
    "                weight_list.append(value)\n",
    "            elif 'bias' in name:\n",
    "                bias_list.append(value)\n",
    "\n",
    "    opt = optim.SGD([{'params': weight_list, 'lr': lr / 10},\n",
    "                     {'params': bias_list, 'lr': lr / 5},\n",
    "                     {'params': last_weight_list, 'lr': lr},\n",
    "                     {'params': last_bias_list, 'lr': lr * 2}], momentum=0.9, weight_decay=args.weight_decay, nesterov=args.nesterov)\n",
    "\n",
    "    return opt"
   ]
  },
  {
   "cell_type": "markdown",
   "metadata": {},
   "source": [
    "# 训练"
   ]
  },
  {
   "cell_type": "code",
   "execution_count": 8,
   "metadata": {},
   "outputs": [],
   "source": [
    "#初始化\n",
    "torch.cuda.empty_cache()\n",
    "epoch=0\n",
    "train_acc_arr=[]\n",
    "val_acc_arr=[]\n",
    "\n",
    "#加载数据\n",
    "dataset=Loader(args=args)\n",
    "dataloader=DataLoader(dataset, batch_size=args.batch_size, shuffle=True)\n",
    "\n",
    "#加载模型\n",
    "model=get_model(args=args)\n",
    "\n",
    "#加载参数\n",
    "loss_func=get_loss_func(args=args)\n",
    "    \n",
    "#训练\n",
    "if args.continue_train:\n",
    "    model.load_state_dict(torch.load(args.train_model))\n",
    "    check_dict=load_check_point(args=args)\n",
    "    epoch=check_dict['epoch']\n",
    "    train_acc_arr=check_dict['train_acc_arr']\n",
    "    val_acc_arr=check_dict['val_acc_arr']\n",
    "    \n",
    "while epoch <args.epoch:\n",
    "    opt = get_finetune_optimizer(args, model)\n",
    "    \n",
    "    train_result = []\n",
    "    train_label = []\n",
    "    val_result = []\n",
    "    val_label = []\n",
    "    \n",
    "    for step, (img_id, img, label, bbox) in enumerate(dataloader):\n",
    "        img = img.cuda()\n",
    "        label = label.cuda()\n",
    "\n",
    "        logits, cam = model.forward(img)\n",
    "        loss = loss_func(logits, label)\n",
    "        acc = cal_acc(logits, label)\n",
    "\n",
    "        opt.zero_grad()\n",
    "        loss.backward()\n",
    "        opt.step()\n",
    "\n",
    "        print('epoch:{} train loss:{} train acc:{}'.format(epoch, loss, acc))\n",
    "\n",
    "        train_result.extend(torch.argmax(logits, dim=-1).cpu().data.numpy())\n",
    "        train_label.extend(label.cpu().data.numpy())\n",
    "    \n",
    "    train_acc_arr.append(np.mean(np.array(train_result) == np.array(train_label)))\n",
    "    \n",
    "    # validation\n",
    "    dataset.to_val()\n",
    "    val_dataloader = DataLoader(dataset, batch_size=args.batch_size, shuffle=False)\n",
    "    for step, (img_id, img, label, bbox) in enumerate(tqdm_notebook(val_dataloader)):\n",
    "        img = img.cuda()\n",
    "        label = label.cuda()\n",
    "\n",
    "        logits, cam = model.forward(img)\n",
    "        val_result.extend(torch.argmax(logits, dim=-1).cpu().data.numpy())\n",
    "        val_label.extend(label.cpu().data.numpy())\n",
    "        \n",
    "        if step==0:\n",
    "            plot_dict={}\n",
    "            plot_dict['raw_imgs']=get_raw_imgs_by_id(args,img_id[:5],dataset)\n",
    "            target_cams=torch.zeros(cam.size()[0],cam.size()[2],cam.size()[3])\n",
    "            for i in range(logits.size()[0]):\n",
    "                target_cls=torch.argmax(logits[i])\n",
    "                target_cams[i]=cam[i][target_cls].detach()\n",
    "                \n",
    "            plot_dict['cams']=target_cams[:5]\n",
    "            plot_different_figs(plot_dict)\n",
    "            \n",
    "\n",
    "    val_acc_arr.append(np.mean(np.array(val_result) == np.array(val_label)))\n",
    "    \n",
    "    if len(val_acc_arr)==1 or val_acc_arr[-1]>=val_acc_arr[-2]:\n",
    "        torch.save(model.state_dict(), args.train_model)\n",
    "    \n",
    "    #plot\n",
    "    plot_train_process(args,[train_acc_arr,val_acc_arr])\n",
    "    \n",
    "    #save check point\n",
    "    epoch+=1\n",
    "    save_check_point(args=args,check_dict={\n",
    "        'epoch':epoch,\n",
    "        'train_acc_arr':train_acc_arr,\n",
    "        'val_acc_arr':val_acc_arr\n",
    "    })\n",
    "    \n",
    "    dataset.to_train()"
   ]
  },
  {
   "cell_type": "markdown",
   "metadata": {},
   "source": [
    "# Result"
   ]
  },
  {
   "cell_type": "code",
   "execution_count": 9,
   "metadata": {},
   "outputs": [
    {
     "name": "stdout",
     "output_type": "stream",
     "text": [
      "train acc:0.7585919252585919\n",
      "val acc:0.6201242664825681\n"
     ]
    },
    {
     "data": {
      "text/plain": [
       "<matplotlib.image.AxesImage at 0x25d802d0f60>"
      ]
     },
     "execution_count": 9,
     "metadata": {},
     "output_type": "execute_result"
    },
    {
     "data": {
      "image/png": "[encoded data removed]",
      "text/plain": [
       "<Figure size 432x288 with 1 Axes>"
      ]
     },
     "metadata": {
      "needs_background": "light"
     },
     "output_type": "display_data"
    }
   ],
   "source": [
    "check_dict=load_check_point(args=args)\n",
    "epoch=check_dict['epoch']\n",
    "train_acc_arr=check_dict['train_acc_arr']\n",
    "val_acc_arr=check_dict['val_acc_arr']\n",
    "\n",
    "print('train acc:{}'.format(train_acc_arr[-1]))\n",
    "print('val acc:{}'.format(val_acc_arr[-1]))\n",
    "\n",
    "plt.imshow(read_one_fig(args.train_img))"
   ]
  },
  {
   "cell_type": "markdown",
   "metadata": {},
   "source": [
    "# 计算validation数据集的iou"
   ]
  },
  {
   "cell_type": "code",
   "execution_count": 10,
   "metadata": {},
   "outputs": [
    {
     "data": {
      "application/vnd.jupyter.widget-view+json": {
       "model_id": "78f7121172e84937a8f2d95ae205d239",
       "version_major": 2,
       "version_minor": 0
      },
      "text/plain": [
       "HBox(children=(IntProgress(value=0, max=182), HTML(value='')))"
      ]
     },
     "metadata": {},
     "output_type": "display_data"
    },
    {
     "name": "stderr",
     "output_type": "stream",
     "text": [
      "C:\\App\\Anaconda3\\lib\\site-packages\\torch\\nn\\functional.py:2351: UserWarning: nn.functional.upsample is deprecated. Use nn.functional.interpolate instead.\n",
      "  warnings.warn(\"nn.functional.upsample is deprecated. Use nn.functional.interpolate instead.\")\n"
     ]
    },
    {
     "name": "stdout",
     "output_type": "stream",
     "text": [
      "\n"
     ]
    }
   ],
   "source": [
    "#初始化\n",
    "torch.cuda.empty_cache()\n",
    "\n",
    "dataset.to_val()\n",
    "val_dataloader = DataLoader(dataset, batch_size=args.batch_size, shuffle=False)\n",
    "\n",
    "iou_result=[]\n",
    "cls_result=[]\n",
    "for step, (img_id, img, label, bbox) in enumerate(tqdm_notebook(val_dataloader)):\n",
    "    img = img.cuda()\n",
    "    label = label.cuda()\n",
    "\n",
    "    logits, cam = model.forward(img)\n",
    "    cls_predict=torch.argmax(logits,dim=-1)\n",
    "    raw_imgs=get_raw_imgs_by_id(args,img_id,dataset)\n",
    "    for i in range(len(img_id)):\n",
    "        target_cam=cam[i][cls_predict[i]].unsqueeze(0).unsqueeze(0)\n",
    "        raw_img_size=raw_imgs[i].size\n",
    "        up_cam=F.upsample(target_cam.detach().cpu().data, size=(raw_img_size[1],raw_img_size[0]), mode='bilinear', align_corners=True)\n",
    "        binary_cam=model.norm_cam_2_binary(up_cam)\n",
    "        largest_binary_cam=get_max_binary_area(binary_cam.squeeze().numpy())\n",
    "        gen_bbox=get_bbox_from_binary_cam(largest_binary_cam)\n",
    "        iou_result.append(get_iou(gen_bbox,[float(x) for x in bbox[i].split(' ')]))\n",
    "        \n",
    "    cls_result.extend(cls_predict.cpu().numpy()==label.cpu().numpy())\n",
    "    \n",
    "print('iou result on validation is:{}'.format(np.mean((np.array(iou_result)>0.5)*np.array(cls_result))))\n",
    "print('iou result on validation detach:{}'.format(np.mean(np.array(iou_result)[np.array(cls_result)]>0.5)))"
   ]
  },
  {
   "cell_type": "code",
   "execution_count": null,
   "metadata": {},
   "outputs": [],
   "source": []
  }
 ],
 "metadata": {
  "kernelspec": {
   "display_name": "Python 3",
   "language": "python",
   "name": "python3"
  },
  "language_info": {
   "codemirror_mode": {
    "name": "ipython",
    "version": 3
   },
   "file_extension": ".py",
   "mimetype": "text/x-python",
   "name": "python",
   "nbconvert_exporter": "python",
   "pygments_lexer": "ipython3",
   "version": "3.7.1"
  }
 },
 "nbformat": 4,
 "nbformat_minor": 2
}
