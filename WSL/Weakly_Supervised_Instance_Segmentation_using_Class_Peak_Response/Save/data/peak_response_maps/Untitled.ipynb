{
 "cells": [
  {
   "cell_type": "code",
   "execution_count": 90,
   "metadata": {},
   "outputs": [],
   "source": [
    "import numpy as np\n",
    "import os\n",
    "import pickle\n",
    "import matplotlib.pyplot as plt\n",
    "import pandas as pd\n",
    "import PIL.Image\n",
    "from scipy.misc import imresize"
   ]
  },
  {
   "cell_type": "code",
   "execution_count": 45,
   "metadata": {},
   "outputs": [],
   "source": [
    "img_dir = '../../../../../../../Data/VOCdevkit/VOC2012/JPEGImages/'"
   ]
  },
  {
   "cell_type": "code",
   "execution_count": 46,
   "metadata": {},
   "outputs": [],
   "source": [
    "def select_one_pkl_from(d):\n",
    "    files=[file for file in os.listdir(d) if 'pkl' in file]\n",
    "    \n",
    "    return files[np.random.randint(0,len(files))]"
   ]
  },
  {
   "cell_type": "code",
   "execution_count": 149,
   "metadata": {},
   "outputs": [],
   "source": [
    "def random_display_one(d):\n",
    "    with open(select_one_pkl_from(d),'rb') as f:\n",
    "        img_name,img_labels,aggregation, class_response_maps, whole_pickle_list_in_target_class,valid_peak_list, peak_response_maps=pickle.load(f)\n",
    "    \n",
    "    df=pd.DataFrame(columns=['dog', 'sofa', 'bicycle', 'aeroplane', 'pottedplant', 'car', 'horse', 'bird', 'bottle', 'cow', 'cat',\n",
    "            'tvmonitor', 'person', 'train', 'boat', 'diningtable', 'sheep', 'chair', 'motorbike', 'bus'])\n",
    "    \n",
    "    print('img_name:'+img_name)\n",
    "    df.loc['labels']=img_labels\n",
    "    df.loc['results']=np.array([1. if x>0 else 0. for x in aggregation])\n",
    "    df.loc['score']=aggregation\n",
    "    print('-------------------------------')\n",
    "    print(df)\n",
    "    print('-------------------------------')\n",
    "    plt.figure()\n",
    "    plt.imshow(PIL.Image.open(img_dir+img_name+'.jpg').convert('RGB'))\n",
    "    \n",
    "    target_label_nums=len(np.where(img_labels>0)[0])\n",
    "    plt.figure(figsize=(10,8))\n",
    "    for index,i in enumerate(np.where(img_labels>0)[0]):\n",
    "        pd.DataFrame(class_response_maps[i]).to_csv('response_map_'+df.columns[i]+'.csv')\n",
    "        tmp=plt.subplot('1'+str(target_label_nums)+str(index+1))\n",
    "        plt.imshow(class_response_maps[i])\n",
    "        tmp.set_title(df.columns[i])\n",
    "        \n",
    "    plt.figure(figsize=(10,3))\n",
    "    for index,i in enumerate(np.where(img_labels>0)[0]):\n",
    "        tmp=plt.subplot('1'+str(target_label_nums)+str(index+1))\n",
    "        plt.scatter([x[3] for x in whole_pickle_list_in_target_class if x[1]==i],[x[2] for x in whole_pickle_list_in_target_class if x[1]==i])\n",
    "        plt.xlim(0, 112)\n",
    "        plt.ylim(0, 112)\n",
    "        tmp.invert_yaxis()\n",
    "        \n",
    "    plt.figure(figsize=(10,3))\n",
    "    for index,i in enumerate(np.where(img_labels>0)[0]):\n",
    "        tmp=plt.subplot('1'+str(target_label_nums)+str(index+1))\n",
    "        plt.scatter([x[3] for x in valid_peak_list if x[1]==i],[x[2] for x in valid_peak_list if x[1]==i])\n",
    "        plt.xlim(0, 112)\n",
    "        plt.ylim(0, 112)\n",
    "        tmp.invert_yaxis()\n",
    "        \n",
    "    plt.figure(figsize=(20,5))\n",
    "    peak_map_nums=len(peak_response_maps)\n",
    "    for i in range(peak_response_maps.shape[0]):\n",
    "        tmp=plt.subplot('1'+str(peak_map_nums)+str(i+1))\n",
    "        plt.imshow(peak_response_maps[i])\n",
    "        tmp.set_title(df.columns[valid_peak_list[i][1]])\n",
    "    "
   ]
  },
  {
   "cell_type": "code",
   "execution_count": 160,
   "metadata": {},
   "outputs": [
    {
     "ename": "ValueError",
     "evalue": "low >= high",
     "traceback": [
      "\u001b[0;31m---------------------------------------------------------------------------\u001b[0m",
      "\u001b[0;31mValueError\u001b[0m                                Traceback (most recent call last)",
      "\u001b[0;32m<ipython-input-160-694b88832e2e>\u001b[0m in \u001b[0;36m<module>\u001b[0;34m()\u001b[0m\n\u001b[0;32m----> 1\u001b[0;31m \u001b[0mrandom_display_one\u001b[0m\u001b[0;34m(\u001b[0m\u001b[0;34m'./'\u001b[0m\u001b[0;34m)\u001b[0m\u001b[0;34m\u001b[0m\u001b[0m\n\u001b[0m",
      "\u001b[0;32m<ipython-input-149-086ee40aa507>\u001b[0m in \u001b[0;36mrandom_display_one\u001b[0;34m(d)\u001b[0m\n\u001b[1;32m      1\u001b[0m \u001b[0;32mdef\u001b[0m \u001b[0mrandom_display_one\u001b[0m\u001b[0;34m(\u001b[0m\u001b[0md\u001b[0m\u001b[0;34m)\u001b[0m\u001b[0;34m:\u001b[0m\u001b[0;34m\u001b[0m\u001b[0m\n\u001b[0;32m----> 2\u001b[0;31m     \u001b[0;32mwith\u001b[0m \u001b[0mopen\u001b[0m\u001b[0;34m(\u001b[0m\u001b[0mselect_one_pkl_from\u001b[0m\u001b[0;34m(\u001b[0m\u001b[0md\u001b[0m\u001b[0;34m)\u001b[0m\u001b[0;34m,\u001b[0m\u001b[0;34m'rb'\u001b[0m\u001b[0;34m)\u001b[0m \u001b[0;32mas\u001b[0m \u001b[0mf\u001b[0m\u001b[0;34m:\u001b[0m\u001b[0;34m\u001b[0m\u001b[0m\n\u001b[0m\u001b[1;32m      3\u001b[0m         \u001b[0mimg_name\u001b[0m\u001b[0;34m,\u001b[0m\u001b[0mimg_labels\u001b[0m\u001b[0;34m,\u001b[0m\u001b[0maggregation\u001b[0m\u001b[0;34m,\u001b[0m \u001b[0mclass_response_maps\u001b[0m\u001b[0;34m,\u001b[0m \u001b[0mwhole_pickle_list_in_target_class\u001b[0m\u001b[0;34m,\u001b[0m\u001b[0mvalid_peak_list\u001b[0m\u001b[0;34m,\u001b[0m \u001b[0mpeak_response_maps\u001b[0m\u001b[0;34m=\u001b[0m\u001b[0mpickle\u001b[0m\u001b[0;34m.\u001b[0m\u001b[0mload\u001b[0m\u001b[0;34m(\u001b[0m\u001b[0mf\u001b[0m\u001b[0;34m)\u001b[0m\u001b[0;34m\u001b[0m\u001b[0m\n\u001b[1;32m      4\u001b[0m \u001b[0;34m\u001b[0m\u001b[0m\n\u001b[1;32m      5\u001b[0m     df=pd.DataFrame(columns=['dog', 'sofa', 'bicycle', 'aeroplane', 'pottedplant', 'car', 'horse', 'bird', 'bottle', 'cow', 'cat',\n",
      "\u001b[0;32m<ipython-input-46-e6699429547a>\u001b[0m in \u001b[0;36mselect_one_pkl_from\u001b[0;34m(d)\u001b[0m\n\u001b[1;32m      2\u001b[0m     \u001b[0mfiles\u001b[0m\u001b[0;34m=\u001b[0m\u001b[0;34m[\u001b[0m\u001b[0mfile\u001b[0m \u001b[0;32mfor\u001b[0m \u001b[0mfile\u001b[0m \u001b[0;32min\u001b[0m \u001b[0mos\u001b[0m\u001b[0;34m.\u001b[0m\u001b[0mlistdir\u001b[0m\u001b[0;34m(\u001b[0m\u001b[0md\u001b[0m\u001b[0;34m)\u001b[0m \u001b[0;32mif\u001b[0m \u001b[0;34m'pkl'\u001b[0m \u001b[0;32min\u001b[0m \u001b[0mfile\u001b[0m\u001b[0;34m]\u001b[0m\u001b[0;34m\u001b[0m\u001b[0m\n\u001b[1;32m      3\u001b[0m \u001b[0;34m\u001b[0m\u001b[0m\n\u001b[0;32m----> 4\u001b[0;31m     \u001b[0;32mreturn\u001b[0m \u001b[0mfiles\u001b[0m\u001b[0;34m[\u001b[0m\u001b[0mnp\u001b[0m\u001b[0;34m.\u001b[0m\u001b[0mrandom\u001b[0m\u001b[0;34m.\u001b[0m\u001b[0mrandint\u001b[0m\u001b[0;34m(\u001b[0m\u001b[0;36m0\u001b[0m\u001b[0;34m,\u001b[0m\u001b[0mlen\u001b[0m\u001b[0;34m(\u001b[0m\u001b[0mfiles\u001b[0m\u001b[0;34m)\u001b[0m\u001b[0;34m)\u001b[0m\u001b[0;34m]\u001b[0m\u001b[0;34m\u001b[0m\u001b[0m\n\u001b[0m",
      "\u001b[0;32mmtrand.pyx\u001b[0m in \u001b[0;36mmtrand.RandomState.randint\u001b[0;34m()\u001b[0m\n",
      "\u001b[0;31mValueError\u001b[0m: low >= high"
     ],
     "output_type": "error"
    }
   ],
   "source": [
    "random_display_one('./')"
   ]
  },
  {
   "cell_type": "code",
   "execution_count": 157,
   "metadata": {},
   "outputs": [],
   "source": [
    "data_csv=pd.read_csv('../../../improved_data.csv')"
   ]
  },
  {
   "cell_type": "code",
   "execution_count": 159,
   "metadata": {},
   "outputs": [
    {
     "data": {
      "text/html": [
       "<div>\n",
       "<style scoped>\n",
       "    .dataframe tbody tr th:only-of-type {\n",
       "        vertical-align: middle;\n",
       "    }\n",
       "\n",
       "    .dataframe tbody tr th {\n",
       "        vertical-align: top;\n",
       "    }\n",
       "\n",
       "    .dataframe thead th {\n",
       "        text-align: right;\n",
       "    }\n",
       "</style>\n",
       "<table border=\"1\" class=\"dataframe\">\n",
       "  <thead>\n",
       "    <tr style=\"text-align: right;\">\n",
       "      <th></th>\n",
       "      <th>img_name</th>\n",
       "      <th>img_class</th>\n",
       "      <th>img_bbox</th>\n",
       "      <th>seg_class</th>\n",
       "      <th>seg_obj</th>\n",
       "      <th>bbox_label</th>\n",
       "    </tr>\n",
       "  </thead>\n",
       "  <tbody>\n",
       "    <tr>\n",
       "      <th>0</th>\n",
       "      <td>2010_004157</td>\n",
       "      <td>[0, 0, 0, 0, 0, 0, 0, 0, 0, 0, 1, 0, 0, 0, 0, ...</td>\n",
       "      <td>[['499', '1', '293', '19']]</td>\n",
       "      <td>NaN</td>\n",
       "      <td>NaN</td>\n",
       "      <td>['cat']</td>\n",
       "    </tr>\n",
       "    <tr>\n",
       "      <th>1</th>\n",
       "      <td>2012_003811</td>\n",
       "      <td>[0, 0, 0, 0, 0, 0, 0, 0, 0, 0, 0, 0, 1, 0, 0, ...</td>\n",
       "      <td>[['56', '11', '277', '151']]</td>\n",
       "      <td>NaN</td>\n",
       "      <td>NaN</td>\n",
       "      <td>['person']</td>\n",
       "    </tr>\n",
       "    <tr>\n",
       "      <th>2</th>\n",
       "      <td>2007_007048</td>\n",
       "      <td>[0, 0, 0, 0, 0, 0, 0, 0, 1, 0, 0, 0, 1, 0, 0, ...</td>\n",
       "      <td>[['227', '55', '500', '324'], ['82', '56', '24...</td>\n",
       "      <td>1.0</td>\n",
       "      <td>1.0</td>\n",
       "      <td>['sheep', 'sheep', 'bottle', 'person', 'person...</td>\n",
       "    </tr>\n",
       "    <tr>\n",
       "      <th>3</th>\n",
       "      <td>2012_001460</td>\n",
       "      <td>[0, 0, 0, 0, 0, 0, 0, 0, 0, 0, 0, 0, 1, 0, 0, ...</td>\n",
       "      <td>[['230', '142', '229', '53']]</td>\n",
       "      <td>NaN</td>\n",
       "      <td>NaN</td>\n",
       "      <td>['person']</td>\n",
       "    </tr>\n",
       "    <tr>\n",
       "      <th>4</th>\n",
       "      <td>2008_006392</td>\n",
       "      <td>[0, 0, 0, 0, 0, 1, 0, 0, 0, 0, 0, 0, 1, 0, 0, ...</td>\n",
       "      <td>[['1', '228', '95', '343'], ['77', '198', '101...</td>\n",
       "      <td>NaN</td>\n",
       "      <td>NaN</td>\n",
       "      <td>['car', 'person', 'person', 'person', 'person']</td>\n",
       "    </tr>\n",
       "  </tbody>\n",
       "</table>\n",
       "</div>"
      ],
      "text/plain": [
       "      img_name                                          img_class  \\\n",
       "0  2010_004157  [0, 0, 0, 0, 0, 0, 0, 0, 0, 0, 1, 0, 0, 0, 0, ...   \n",
       "1  2012_003811  [0, 0, 0, 0, 0, 0, 0, 0, 0, 0, 0, 0, 1, 0, 0, ...   \n",
       "2  2007_007048  [0, 0, 0, 0, 0, 0, 0, 0, 1, 0, 0, 0, 1, 0, 0, ...   \n",
       "3  2012_001460  [0, 0, 0, 0, 0, 0, 0, 0, 0, 0, 0, 0, 1, 0, 0, ...   \n",
       "4  2008_006392  [0, 0, 0, 0, 0, 1, 0, 0, 0, 0, 0, 0, 1, 0, 0, ...   \n",
       "\n",
       "                                            img_bbox  seg_class  seg_obj  \\\n",
       "0                        [['499', '1', '293', '19']]        NaN      NaN   \n",
       "1                       [['56', '11', '277', '151']]        NaN      NaN   \n",
       "2  [['227', '55', '500', '324'], ['82', '56', '24...        1.0      1.0   \n",
       "3                      [['230', '142', '229', '53']]        NaN      NaN   \n",
       "4  [['1', '228', '95', '343'], ['77', '198', '101...        NaN      NaN   \n",
       "\n",
       "                                          bbox_label  \n",
       "0                                            ['cat']  \n",
       "1                                         ['person']  \n",
       "2  ['sheep', 'sheep', 'bottle', 'person', 'person...  \n",
       "3                                         ['person']  \n",
       "4    ['car', 'person', 'person', 'person', 'person']  "
      ]
     },
     "execution_count": 159,
     "metadata": {},
     "output_type": "execute_result"
    }
   ],
   "source": [
    "data_csv.head()"
   ]
  },
  {
   "cell_type": "code",
   "execution_count": 123,
   "metadata": {},
   "outputs": [
    {
     "data": {
      "text/plain": [
       "<matplotlib.image.AxesImage at 0x7f6429a9a438>"
      ]
     },
     "execution_count": 123,
     "metadata": {},
     "output_type": "execute_result"
    },
    {
     "data": {
      "image/png": "[encoded data removed]",
      "text/plain": [
       "<Figure size 432x288 with 1 Axes>"
      ]
     },
     "metadata": {},
     "output_type": "display_data"
    }
   ],
   "source": [
    "plt.imshow((response_person.values>np.median(response_person.values))*response_person.values)"
   ]
  },
  {
   "cell_type": "code",
   "execution_count": null,
   "metadata": {},
   "outputs": [],
   "source": []
  }
 ],
 "metadata": {
  "kernelspec": {
   "display_name": "Python 3",
   "language": "python",
   "name": "python3"
  },
  "language_info": {
   "codemirror_mode": {
    "name": "ipython",
    "version": 3
   },
   "file_extension": ".py",
   "mimetype": "text/x-python",
   "name": "python",
   "nbconvert_exporter": "python",
   "pygments_lexer": "ipython3",
   "version": "3.6.5"
  }
 },
 "nbformat": 4,
 "nbformat_minor": 2
}
