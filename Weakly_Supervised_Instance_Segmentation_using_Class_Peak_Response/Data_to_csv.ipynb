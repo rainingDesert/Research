{
 "cells": [
  {
   "cell_type": "code",
   "execution_count": 69,
   "metadata": {},
   "outputs": [],
   "source": [
    "import numpy as np\n",
    "import os\n",
    "import pandas as pd\n",
    "from tqdm import tqdm_notebook as tqdm\n",
    "from xml.dom import minidom"
   ]
  },
  {
   "cell_type": "code",
   "execution_count": 70,
   "metadata": {},
   "outputs": [],
   "source": [
    "img_dir='../../../../Data/VOCdevkit/VOC2012/JPEGImages/'\n",
    "class_label_dir='../../../../Data/VOCdevkit/VOC2012/ImageSets/Main/'\n",
    "anotation_dir='../../../../Data/VOCdevkit/VOC2012/Annotations/'\n",
    "seg_class_dir='../../../../Data/VOCdevkit/VOC2012/SegmentationClass/'\n",
    "seg_obj_dir='../../../../Data/VOCdevkit/VOC2012/SegmentationObject/'"
   ]
  },
  {
   "cell_type": "markdown",
   "metadata": {},
   "source": [
    "## 找到图像对应的label "
   ]
  },
  {
   "cell_type": "code",
   "execution_count": 71,
   "metadata": {},
   "outputs": [],
   "source": [
    "categories=[]\n",
    "for root,dirs,files in os.walk(class_label_dir):\n",
    "    for file in files:\n",
    "        if 'trainval' in file and '_' in file:\n",
    "            categories.append(file.split('_')[0])"
   ]
  },
  {
   "cell_type": "code",
   "execution_count": 72,
   "metadata": {},
   "outputs": [
    {
     "data": {
      "text/plain": [
       "['dog',\n",
       " 'sofa',\n",
       " 'bicycle',\n",
       " 'aeroplane',\n",
       " 'pottedplant',\n",
       " 'car',\n",
       " 'horse',\n",
       " 'bird',\n",
       " 'bottle',\n",
       " 'cow',\n",
       " 'cat',\n",
       " 'tvmonitor',\n",
       " 'person',\n",
       " 'train',\n",
       " 'boat',\n",
       " 'diningtable',\n",
       " 'sheep',\n",
       " 'chair',\n",
       " 'motorbike',\n",
       " 'bus']"
      ]
     },
     "execution_count": 72,
     "metadata": {},
     "output_type": "execute_result"
    }
   ],
   "source": [
    "categories"
   ]
  },
  {
   "cell_type": "code",
   "execution_count": 73,
   "metadata": {},
   "outputs": [],
   "source": [
    "img_with_label={}\n",
    "for i in range(len(categories)):\n",
    "    cate=class_label_dir+categories[i]+'_trainval.txt'\n",
    "    with open(cate,'r') as f:\n",
    "        data=f.readlines()\n",
    "        \n",
    "        for line in data:\n",
    "            items=line.split(' ')\n",
    "            if items[0] in img_with_label.keys():\n",
    "                if int(items[-1])==-1:\n",
    "                    img_with_label[items[0]][i]=0\n",
    "                else:\n",
    "                    img_with_label[items[0]][i]=1\n",
    "            else:\n",
    "                img_with_label[items[0]]=[-1 for _ in range(20)]\n",
    "                if int(items[-1])==-1:\n",
    "                    img_with_label[items[0]][i]=0\n",
    "                else:\n",
    "                    img_with_label[items[0]][i]=1"
   ]
  },
  {
   "cell_type": "markdown",
   "metadata": {},
   "source": [
    "# Create Dataframe for all imgs"
   ]
  },
  {
   "cell_type": "code",
   "execution_count": 74,
   "metadata": {},
   "outputs": [],
   "source": [
    "imgs=[]\n",
    "for root,dirs,files in os.walk(img_dir):\n",
    "    for file in files:\n",
    "        imgs.append(file.split('.')[0])"
   ]
  },
  {
   "cell_type": "code",
   "execution_count": 75,
   "metadata": {},
   "outputs": [],
   "source": [
    "img_classes=[]\n",
    "for img in imgs:\n",
    "    if img in img_with_label.keys():\n",
    "        img_classes.append(img_with_label[img])\n",
    "    else:\n",
    "        img_classes.append(np.nan)"
   ]
  },
  {
   "cell_type": "code",
   "execution_count": 76,
   "metadata": {},
   "outputs": [
    {
     "data": {
      "application/vnd.jupyter.widget-view+json": {
       "model_id": "26e7f30bae18484c80c8ac07fca339fc",
       "version_major": 2,
       "version_minor": 0
      },
      "text/plain": [
       "HBox(children=(IntProgress(value=0, max=17125), HTML(value='')))"
      ]
     },
     "metadata": {},
     "output_type": "display_data"
    },
    {
     "name": "stdout",
     "output_type": "stream",
     "text": [
      "\n"
     ]
    }
   ],
   "source": [
    "img_bbox=[]\n",
    "img_bbox_label=[]\n",
    "for img in tqdm(imgs):\n",
    "    if os.path.exists(anotation_dir+img+'.xml'):\n",
    "        single_img_bbox=[]\n",
    "        single_bbox_label=[]\n",
    "        \n",
    "        mydoc = minidom.parse(anotation_dir+img+'.xml')\n",
    "        root=mydoc.documentElement\n",
    "        \n",
    "        items = root.getElementsByTagName('object')\n",
    "        for item in items:\n",
    "            single_bbox=[]\n",
    "            name=item.getElementsByTagName('name')[0].firstChild.data\n",
    "            bbox=item.getElementsByTagName('bndbox')[0]\n",
    "\n",
    "            for b in bbox.childNodes:\n",
    "                if b.nodeType==1:\n",
    "                    single_bbox.append(b.firstChild.data)\n",
    "                    \n",
    "            single_img_bbox.append(single_bbox)\n",
    "            single_bbox_label.append(name)\n",
    "        \n",
    "        img_bbox.append(single_img_bbox)\n",
    "        img_bbox_label.append(single_bbox_label)\n",
    "    else:\n",
    "        img_bbox.append(np.nan)\n",
    "        img_bbox_label.append(np.nan)"
   ]
  },
  {
   "cell_type": "code",
   "execution_count": 77,
   "metadata": {},
   "outputs": [
    {
     "data": {
      "application/vnd.jupyter.widget-view+json": {
       "model_id": "69c76999a1434485b2dd31227e5a772c",
       "version_major": 2,
       "version_minor": 0
      },
      "text/plain": [
       "HBox(children=(IntProgress(value=0, max=17125), HTML(value='')))"
      ]
     },
     "metadata": {},
     "output_type": "display_data"
    },
    {
     "name": "stdout",
     "output_type": "stream",
     "text": [
      "\n"
     ]
    }
   ],
   "source": [
    "img_seg_class=[]\n",
    "for img in tqdm(imgs):\n",
    "    if os.path.exists(seg_class_dir+img+'.png'):\n",
    "        img_seg_class.append(1)\n",
    "    else:\n",
    "        img_seg_class.append(np.nan)"
   ]
  },
  {
   "cell_type": "code",
   "execution_count": 78,
   "metadata": {},
   "outputs": [
    {
     "data": {
      "application/vnd.jupyter.widget-view+json": {
       "model_id": "495c724b46cd4a63867013f640464785",
       "version_major": 2,
       "version_minor": 0
      },
      "text/plain": [
       "HBox(children=(IntProgress(value=0, max=17125), HTML(value='')))"
      ]
     },
     "metadata": {},
     "output_type": "display_data"
    },
    {
     "name": "stdout",
     "output_type": "stream",
     "text": [
      "\n"
     ]
    }
   ],
   "source": [
    "img_seg_obj=[]\n",
    "for img in tqdm(imgs):\n",
    "    if os.path.exists(seg_obj_dir+img+'.png'):\n",
    "        img_seg_obj.append(1)\n",
    "    else:\n",
    "        img_seg_obj.append(np.nan)"
   ]
  },
  {
   "cell_type": "code",
   "execution_count": 79,
   "metadata": {},
   "outputs": [],
   "source": [
    "data_csv=pd.DataFrame({'img_name':imgs})"
   ]
  },
  {
   "cell_type": "code",
   "execution_count": 80,
   "metadata": {},
   "outputs": [],
   "source": [
    "data_csv['img_class']=img_classes"
   ]
  },
  {
   "cell_type": "code",
   "execution_count": 81,
   "metadata": {},
   "outputs": [],
   "source": [
    "data_csv['img_bbox']=img_bbox"
   ]
  },
  {
   "cell_type": "code",
   "execution_count": 82,
   "metadata": {},
   "outputs": [],
   "source": [
    "data_csv['seg_class']=img_seg_class"
   ]
  },
  {
   "cell_type": "code",
   "execution_count": 83,
   "metadata": {},
   "outputs": [],
   "source": [
    "data_csv['seg_obj']=img_seg_obj"
   ]
  },
  {
   "cell_type": "code",
   "execution_count": 84,
   "metadata": {},
   "outputs": [],
   "source": [
    "data_csv['bbox_label']=img_bbox_label"
   ]
  },
  {
   "cell_type": "code",
   "execution_count": 85,
   "metadata": {},
   "outputs": [
    {
     "data": {
      "text/html": [
       "<div>\n",
       "<style scoped>\n",
       "    .dataframe tbody tr th:only-of-type {\n",
       "        vertical-align: middle;\n",
       "    }\n",
       "\n",
       "    .dataframe tbody tr th {\n",
       "        vertical-align: top;\n",
       "    }\n",
       "\n",
       "    .dataframe thead th {\n",
       "        text-align: right;\n",
       "    }\n",
       "</style>\n",
       "<table border=\"1\" class=\"dataframe\">\n",
       "  <thead>\n",
       "    <tr style=\"text-align: right;\">\n",
       "      <th></th>\n",
       "      <th>img_name</th>\n",
       "      <th>img_class</th>\n",
       "      <th>img_bbox</th>\n",
       "      <th>seg_class</th>\n",
       "      <th>seg_obj</th>\n",
       "      <th>bbox_label</th>\n",
       "    </tr>\n",
       "  </thead>\n",
       "  <tbody>\n",
       "    <tr>\n",
       "      <th>0</th>\n",
       "      <td>2010_004157</td>\n",
       "      <td>[0, 0, 0, 0, 0, 0, 0, 0, 0, 0, 1, 0, 0, 0, 0, ...</td>\n",
       "      <td>[[499, 1, 293, 19]]</td>\n",
       "      <td>NaN</td>\n",
       "      <td>NaN</td>\n",
       "      <td>[cat]</td>\n",
       "    </tr>\n",
       "    <tr>\n",
       "      <th>1</th>\n",
       "      <td>2012_003811</td>\n",
       "      <td>NaN</td>\n",
       "      <td>[[56, 11, 277, 151]]</td>\n",
       "      <td>NaN</td>\n",
       "      <td>NaN</td>\n",
       "      <td>[person]</td>\n",
       "    </tr>\n",
       "    <tr>\n",
       "      <th>2</th>\n",
       "      <td>2007_007048</td>\n",
       "      <td>NaN</td>\n",
       "      <td>[[227, 55, 500, 324], [82, 56, 245, 257], [76,...</td>\n",
       "      <td>1.0</td>\n",
       "      <td>1.0</td>\n",
       "      <td>[sheep, sheep, bottle, person, person, person,...</td>\n",
       "    </tr>\n",
       "    <tr>\n",
       "      <th>3</th>\n",
       "      <td>2012_001460</td>\n",
       "      <td>NaN</td>\n",
       "      <td>[[230, 142, 229, 53]]</td>\n",
       "      <td>NaN</td>\n",
       "      <td>NaN</td>\n",
       "      <td>[person]</td>\n",
       "    </tr>\n",
       "    <tr>\n",
       "      <th>4</th>\n",
       "      <td>2008_006392</td>\n",
       "      <td>[0, 0, 0, 0, 0, 1, 0, 0, 0, 0, 0, 0, 1, 0, 0, ...</td>\n",
       "      <td>[[1, 228, 95, 343], [77, 198, 101, 266], [127,...</td>\n",
       "      <td>NaN</td>\n",
       "      <td>NaN</td>\n",
       "      <td>[car, person, person, person, person]</td>\n",
       "    </tr>\n",
       "  </tbody>\n",
       "</table>\n",
       "</div>"
      ],
      "text/plain": [
       "      img_name                                          img_class  \\\n",
       "0  2010_004157  [0, 0, 0, 0, 0, 0, 0, 0, 0, 0, 1, 0, 0, 0, 0, ...   \n",
       "1  2012_003811                                                NaN   \n",
       "2  2007_007048                                                NaN   \n",
       "3  2012_001460                                                NaN   \n",
       "4  2008_006392  [0, 0, 0, 0, 0, 1, 0, 0, 0, 0, 0, 0, 1, 0, 0, ...   \n",
       "\n",
       "                                            img_bbox  seg_class  seg_obj  \\\n",
       "0                                [[499, 1, 293, 19]]        NaN      NaN   \n",
       "1                               [[56, 11, 277, 151]]        NaN      NaN   \n",
       "2  [[227, 55, 500, 324], [82, 56, 245, 257], [76,...        1.0      1.0   \n",
       "3                              [[230, 142, 229, 53]]        NaN      NaN   \n",
       "4  [[1, 228, 95, 343], [77, 198, 101, 266], [127,...        NaN      NaN   \n",
       "\n",
       "                                          bbox_label  \n",
       "0                                              [cat]  \n",
       "1                                           [person]  \n",
       "2  [sheep, sheep, bottle, person, person, person,...  \n",
       "3                                           [person]  \n",
       "4              [car, person, person, person, person]  "
      ]
     },
     "execution_count": 85,
     "metadata": {},
     "output_type": "execute_result"
    }
   ],
   "source": [
    "data_csv.head()"
   ]
  },
  {
   "cell_type": "markdown",
   "metadata": {},
   "source": [
    "## delete len(img_bbox)!= img_class "
   ]
  },
  {
   "cell_type": "code",
   "execution_count": 86,
   "metadata": {},
   "outputs": [],
   "source": [
    "def return_one(arr):\n",
    "    res=0\n",
    "    for i in arr:\n",
    "        if i==1:\n",
    "            res+=1\n",
    "    \n",
    "    return res"
   ]
  },
  {
   "cell_type": "code",
   "execution_count": 88,
   "metadata": {},
   "outputs": [],
   "source": [
    "del_index=[]\n",
    "for index in data_csv.index:\n",
    "    if type(data_csv.at[index,'img_class'])==type([1,2,3]) and type(data_csv.at[index,'bbox_label'])==type(['a']):\n",
    "        if return_one(data_csv.at[index,'img_class'])!=len(set(data_csv.at[index,'bbox_label'])):\n",
    "            del_index.append(index)"
   ]
  },
  {
   "cell_type": "code",
   "execution_count": 90,
   "metadata": {},
   "outputs": [
    {
     "data": {
      "text/plain": [
       "0"
      ]
     },
     "execution_count": 90,
     "metadata": {},
     "output_type": "execute_result"
    }
   ],
   "source": [
    "len(del_index)"
   ]
  },
  {
   "cell_type": "code",
   "execution_count": 91,
   "metadata": {},
   "outputs": [],
   "source": [
    "data_csv.to_csv('data.csv',index=False)"
   ]
  },
  {
   "cell_type": "code",
   "execution_count": null,
   "metadata": {},
   "outputs": [],
   "source": []
  }
 ],
 "metadata": {
  "kernelspec": {
   "display_name": "Python 3",
   "language": "python",
   "name": "python3"
  },
  "language_info": {
   "codemirror_mode": {
    "name": "ipython",
    "version": 3
   },
   "file_extension": ".py",
   "mimetype": "text/x-python",
   "name": "python",
   "nbconvert_exporter": "python",
   "pygments_lexer": "ipython3",
   "version": "3.6.5"
  }
 },
 "nbformat": 4,
 "nbformat_minor": 2
}
