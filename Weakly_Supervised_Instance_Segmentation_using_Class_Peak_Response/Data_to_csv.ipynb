{
 "cells": [
  {
   "cell_type": "code",
   "execution_count": 309,
   "metadata": {},
   "outputs": [],
   "source": [
    "import numpy as np\n",
    "import os\n",
    "import pandas as pd\n",
    "from tqdm import tqdm_notebook as tqdm\n",
    "from xml.dom import minidom"
   ]
  },
  {
   "cell_type": "code",
   "execution_count": 310,
   "metadata": {},
   "outputs": [],
   "source": [
    "img_dir='../../../../Data/VOCdevkit/VOC2012/JPEGImages/'\n",
    "class_label_dir='../../../../Data/VOCdevkit/VOC2012/ImageSets/Main/'\n",
    "anotation_dir='../../../../Data/VOCdevkit/VOC2012/Annotations/'\n",
    "seg_class_dir='../../../../Data/VOCdevkit/VOC2012/SegmentationClass/'\n",
    "seg_obj_dir='../../../../Data/VOCdevkit/VOC2012/SegmentationObject/'"
   ]
  },
  {
   "cell_type": "markdown",
   "metadata": {},
   "source": [
    "## 找到图像对应的label "
   ]
  },
  {
   "cell_type": "code",
   "execution_count": 311,
   "metadata": {},
   "outputs": [],
   "source": [
    "categories=[]\n",
    "for root,dirs,files in os.walk(class_label_dir):\n",
    "    for file in files:\n",
    "        if 'trainval' in file and '_' in file:\n",
    "            categories.append(file.split('_')[0])"
   ]
  },
  {
   "cell_type": "code",
   "execution_count": 312,
   "metadata": {},
   "outputs": [
    {
     "data": {
      "text/plain": [
       "['dog',\n",
       " 'sofa',\n",
       " 'bicycle',\n",
       " 'aeroplane',\n",
       " 'pottedplant',\n",
       " 'car',\n",
       " 'horse',\n",
       " 'bird',\n",
       " 'bottle',\n",
       " 'cow',\n",
       " 'cat',\n",
       " 'tvmonitor',\n",
       " 'person',\n",
       " 'train',\n",
       " 'boat',\n",
       " 'diningtable',\n",
       " 'sheep',\n",
       " 'chair',\n",
       " 'motorbike',\n",
       " 'bus']"
      ]
     },
     "execution_count": 312,
     "metadata": {},
     "output_type": "execute_result"
    }
   ],
   "source": [
    "categories"
   ]
  },
  {
   "cell_type": "code",
   "execution_count": 313,
   "metadata": {},
   "outputs": [],
   "source": [
    "img_with_label={}\n",
    "for i in range(len(categories)):\n",
    "    cate=class_label_dir+categories[i]+'_trainval.txt'\n",
    "    with open(cate,'r') as f:\n",
    "        data=f.readlines()\n",
    "        \n",
    "        for line in data:\n",
    "            items=line.split(' ')\n",
    "            if items[0] in img_with_label.keys():\n",
    "                if int(items[-1])==-1:\n",
    "                    img_with_label[items[0]][i]=0\n",
    "                else:\n",
    "                    img_with_label[items[0]][i]=1\n",
    "            else:\n",
    "                img_with_label[items[0]]=[-1 for _ in range(20)]\n",
    "                if int(items[-1])==-1:\n",
    "                    img_with_label[items[0]][i]=0\n",
    "                else:\n",
    "                    img_with_label[items[0]][i]=1"
   ]
  },
  {
   "cell_type": "markdown",
   "metadata": {},
   "source": [
    "# Create Dataframe for all imgs"
   ]
  },
  {
   "cell_type": "code",
   "execution_count": 314,
   "metadata": {},
   "outputs": [],
   "source": [
    "imgs=[]\n",
    "for root,dirs,files in os.walk(img_dir):\n",
    "    for file in files:\n",
    "        imgs.append(file.split('.')[0])"
   ]
  },
  {
   "cell_type": "code",
   "execution_count": 315,
   "metadata": {},
   "outputs": [],
   "source": [
    "img_classes=[]\n",
    "for img in imgs:\n",
    "    if img in img_with_label.keys():\n",
    "        img_classes.append(img_with_label[img])\n",
    "    else:\n",
    "        img_classes.append(np.nan)"
   ]
  },
  {
   "cell_type": "code",
   "execution_count": 316,
   "metadata": {},
   "outputs": [
    {
     "data": {
      "application/vnd.jupyter.widget-view+json": {
       "model_id": "4a5ac4d5d6f64299b2afb06b981f8f23",
       "version_major": 2,
       "version_minor": 0
      },
      "text/plain": [
       "HBox(children=(IntProgress(value=0, max=17125), HTML(value='')))"
      ]
     },
     "metadata": {},
     "output_type": "display_data"
    }
   ],
   "source": [
    "img_bbox=[]\n",
    "for img in tqdm(imgs):\n",
    "    if os.path.exists(anotation_dir+img+'.xml'):\n",
    "        single_img_bbox=[]\n",
    "        \n",
    "        mydoc = minidom.parse(anotation_dir+img+'.xml')\n",
    "        root=mydoc.documentElement\n",
    "        \n",
    "        items = root.getElementsByTagName('object')\n",
    "        for item in items:\n",
    "            single_bbox=[]\n",
    "            name=item.getElementsByTagName('name')[0].firstChild.data\n",
    "            bbox=item.getElementsByTagName('bndbox')[0]\n",
    "\n",
    "            for b in bbox.childNodes:\n",
    "                if b.nodeType==1:\n",
    "                    single_bbox.append(b.firstChild.data)\n",
    "                    \n",
    "            single_img_bbox.append(single_bbox)\n",
    "        \n",
    "        img_bbox.append(single_img_bbox)\n",
    "    else:\n",
    "        img_bbox.append(np.nan)"
   ]
  },
  {
   "cell_type": "code",
   "execution_count": 317,
   "metadata": {},
   "outputs": [
    {
     "data": {
      "application/vnd.jupyter.widget-view+json": {
       "model_id": "e270d608ed9e4cfa9715e676270238d3",
       "version_major": 2,
       "version_minor": 0
      },
      "text/plain": [
       "HBox(children=(IntProgress(value=0, max=17125), HTML(value='')))"
      ]
     },
     "metadata": {},
     "output_type": "display_data"
    }
   ],
   "source": [
    "img_seg_class=[]\n",
    "for img in tqdm(imgs):\n",
    "    if os.path.exists(seg_class_dir+img+'.png'):\n",
    "        img_seg_class.append(1)\n",
    "    else:\n",
    "        img_seg_class.append(np.nan)"
   ]
  },
  {
   "cell_type": "code",
   "execution_count": 318,
   "metadata": {},
   "outputs": [
    {
     "data": {
      "application/vnd.jupyter.widget-view+json": {
       "model_id": "d1a3def2f0124e6f9a7ca5f1c214ba92",
       "version_major": 2,
       "version_minor": 0
      },
      "text/plain": [
       "HBox(children=(IntProgress(value=0, max=17125), HTML(value='')))"
      ]
     },
     "metadata": {},
     "output_type": "display_data"
    }
   ],
   "source": [
    "img_seg_obj=[]\n",
    "for img in tqdm(imgs):\n",
    "    if os.path.exists(seg_obj_dir+img+'.png'):\n",
    "        img_seg_obj.append(1)\n",
    "    else:\n",
    "        img_seg_obj.append(np.nan)"
   ]
  },
  {
   "cell_type": "code",
   "execution_count": 319,
   "metadata": {},
   "outputs": [],
   "source": [
    "data_csv=pd.DataFrame({'img_name':imgs})"
   ]
  },
  {
   "cell_type": "code",
   "execution_count": 320,
   "metadata": {},
   "outputs": [],
   "source": [
    "data_csv['img_class']=img_classes"
   ]
  },
  {
   "cell_type": "code",
   "execution_count": 321,
   "metadata": {},
   "outputs": [],
   "source": [
    "data_csv['img_bbox']=img_bbox"
   ]
  },
  {
   "cell_type": "code",
   "execution_count": 322,
   "metadata": {},
   "outputs": [],
   "source": [
    "data_csv['seg_class']=img_seg_class"
   ]
  },
  {
   "cell_type": "code",
   "execution_count": 323,
   "metadata": {},
   "outputs": [],
   "source": [
    "data_csv['seg_obj']=img_seg_obj"
   ]
  },
  {
   "cell_type": "code",
   "execution_count": 324,
   "metadata": {},
   "outputs": [
    {
     "data": {
      "text/html": [
       "<div>\n",
       "<style scoped>\n",
       "    .dataframe tbody tr th:only-of-type {\n",
       "        vertical-align: middle;\n",
       "    }\n",
       "\n",
       "    .dataframe tbody tr th {\n",
       "        vertical-align: top;\n",
       "    }\n",
       "\n",
       "    .dataframe thead th {\n",
       "        text-align: right;\n",
       "    }\n",
       "</style>\n",
       "<table border=\"1\" class=\"dataframe\">\n",
       "  <thead>\n",
       "    <tr style=\"text-align: right;\">\n",
       "      <th></th>\n",
       "      <th>img_name</th>\n",
       "      <th>img_class</th>\n",
       "      <th>img_bbox</th>\n",
       "      <th>seg_class</th>\n",
       "      <th>seg_obj</th>\n",
       "    </tr>\n",
       "  </thead>\n",
       "  <tbody>\n",
       "    <tr>\n",
       "      <th>0</th>\n",
       "      <td>2010_004157</td>\n",
       "      <td>[0, 0, 0, 0, 0, 0, 0, 0, 0, 0, 1, 0, 0, 0, 0, ...</td>\n",
       "      <td>[[499, 1, 293, 19]]</td>\n",
       "      <td>NaN</td>\n",
       "      <td>NaN</td>\n",
       "    </tr>\n",
       "    <tr>\n",
       "      <th>1</th>\n",
       "      <td>2012_003811</td>\n",
       "      <td>NaN</td>\n",
       "      <td>[[56, 11, 277, 151]]</td>\n",
       "      <td>NaN</td>\n",
       "      <td>NaN</td>\n",
       "    </tr>\n",
       "    <tr>\n",
       "      <th>2</th>\n",
       "      <td>2007_007048</td>\n",
       "      <td>NaN</td>\n",
       "      <td>[[227, 55, 500, 324], [82, 56, 245, 257], [76,...</td>\n",
       "      <td>1.0</td>\n",
       "      <td>1.0</td>\n",
       "    </tr>\n",
       "    <tr>\n",
       "      <th>3</th>\n",
       "      <td>2012_001460</td>\n",
       "      <td>NaN</td>\n",
       "      <td>[[230, 142, 229, 53]]</td>\n",
       "      <td>NaN</td>\n",
       "      <td>NaN</td>\n",
       "    </tr>\n",
       "    <tr>\n",
       "      <th>4</th>\n",
       "      <td>2008_006392</td>\n",
       "      <td>[0, 0, 0, 0, 0, 1, 0, 0, 0, 0, 0, 0, 1, 0, 0, ...</td>\n",
       "      <td>[[1, 228, 95, 343], [77, 198, 101, 266], [127,...</td>\n",
       "      <td>NaN</td>\n",
       "      <td>NaN</td>\n",
       "    </tr>\n",
       "  </tbody>\n",
       "</table>\n",
       "</div>"
      ],
      "text/plain": [
       "      img_name                                          img_class  \\\n",
       "0  2010_004157  [0, 0, 0, 0, 0, 0, 0, 0, 0, 0, 1, 0, 0, 0, 0, ...   \n",
       "1  2012_003811                                                NaN   \n",
       "2  2007_007048                                                NaN   \n",
       "3  2012_001460                                                NaN   \n",
       "4  2008_006392  [0, 0, 0, 0, 0, 1, 0, 0, 0, 0, 0, 0, 1, 0, 0, ...   \n",
       "\n",
       "                                            img_bbox  seg_class  seg_obj  \n",
       "0                                [[499, 1, 293, 19]]        NaN      NaN  \n",
       "1                               [[56, 11, 277, 151]]        NaN      NaN  \n",
       "2  [[227, 55, 500, 324], [82, 56, 245, 257], [76,...        1.0      1.0  \n",
       "3                              [[230, 142, 229, 53]]        NaN      NaN  \n",
       "4  [[1, 228, 95, 343], [77, 198, 101, 266], [127,...        NaN      NaN  "
      ]
     },
     "execution_count": 324,
     "metadata": {},
     "output_type": "execute_result"
    }
   ],
   "source": [
    "data_csv.head()"
   ]
  },
  {
   "cell_type": "code",
   "execution_count": 325,
   "metadata": {},
   "outputs": [],
   "source": [
    "data_csv.to_csv('data.csv',index=False)"
   ]
  },
  {
   "cell_type": "code",
   "execution_count": null,
   "metadata": {},
   "outputs": [],
   "source": []
  }
 ],
 "metadata": {
  "kernelspec": {
   "display_name": "Python 3",
   "language": "python",
   "name": "python3"
  },
  "language_info": {
   "codemirror_mode": {
    "name": "ipython",
    "version": 3
   },
   "file_extension": ".py",
   "mimetype": "text/x-python",
   "name": "python",
   "nbconvert_exporter": "python",
   "pygments_lexer": "ipython3",
   "version": "3.6.5"
  }
 },
 "nbformat": 4,
 "nbformat_minor": 2
}
